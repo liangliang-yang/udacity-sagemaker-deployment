{
 "cells": [
  {
   "cell_type": "markdown",
   "metadata": {},
   "source": [
    "# Sentiment Analysis\n",
    "\n",
    "## Using XGBoost in SageMaker\n",
    "\n",
    "_Deep Learning Nanodegree Program | Deployment_\n",
    "\n",
    "---\n",
    "\n",
    "In this example of using Amazon's SageMaker service we will construct a random tree model to predict the sentiment of a movie review. You may have seen a version of this example in a pervious lesson although it would have been done using the sklearn package. Instead, we will be using the XGBoost package as it is provided to us by Amazon.\n",
    "\n",
    "## Instructions\n",
    "\n",
    "Some template code has already been provided for you, and you will need to implement additional functionality to successfully complete this notebook. You will not need to modify the included code beyond what is requested. Sections that begin with '**TODO**' in the header indicate that you need to complete or implement some portion within them. Instructions will be provided for each section and the specifics of the implementation are marked in the code block with a `# TODO: ...` comment. Please be sure to read the instructions carefully!\n",
    "\n",
    "In addition to implementing code, there will be questions for you to answer which relate to the task and your implementation. Each section where you will answer a question is preceded by a '**Question:**' header. Carefully read each question and provide your answer below the '**Answer:**' header by editing the Markdown cell.\n",
    "\n",
    "> **Note**: Code and Markdown cells can be executed using the **Shift+Enter** keyboard shortcut. In addition, a cell can be edited by typically clicking it (double-click for Markdown cells) or by pressing **Enter** while it is highlighted."
   ]
  },
  {
   "cell_type": "markdown",
   "metadata": {},
   "source": [
    "## Step 1: Downloading the data\n",
    "\n",
    "The dataset we are going to use is very popular among researchers in Natural Language Processing, usually referred to as the [IMDb dataset](http://ai.stanford.edu/~amaas/data/sentiment/). It consists of movie reviews from the website [imdb.com](http://www.imdb.com/), each labeled as either '**pos**itive', if the reviewer enjoyed the film, or '**neg**ative' otherwise.\n",
    "\n",
    "> Maas, Andrew L., et al. [Learning Word Vectors for Sentiment Analysis](http://ai.stanford.edu/~amaas/data/sentiment/). In _Proceedings of the 49th Annual Meeting of the Association for Computational Linguistics: Human Language Technologies_. Association for Computational Linguistics, 2011.\n",
    "\n",
    "We begin by using some Jupyter Notebook magic to download and extract the dataset."
   ]
  },
  {
   "cell_type": "code",
   "execution_count": 1,
   "metadata": {},
   "outputs": [
    {
     "name": "stdout",
     "output_type": "stream",
     "text": [
      "mkdir: cannot create directory ‘../data’: File exists\n",
      "--2020-04-19 01:15:05--  http://ai.stanford.edu/~amaas/data/sentiment/aclImdb_v1.tar.gz\n",
      "Resolving ai.stanford.edu (ai.stanford.edu)... 171.64.68.10\n",
      "Connecting to ai.stanford.edu (ai.stanford.edu)|171.64.68.10|:80... connected.\n",
      "HTTP request sent, awaiting response... 200 OK\n",
      "Length: 84125825 (80M) [application/x-gzip]\n",
      "Saving to: ‘../data/aclImdb_v1.tar.gz’\n",
      "\n",
      "../data/aclImdb_v1. 100%[===================>]  80.23M  19.5MB/s    in 5.1s    \n",
      "\n",
      "2020-04-19 01:15:10 (15.9 MB/s) - ‘../data/aclImdb_v1.tar.gz’ saved [84125825/84125825]\n",
      "\n"
     ]
    }
   ],
   "source": [
    "%mkdir ../data\n",
    "!wget -O ../data/aclImdb_v1.tar.gz http://ai.stanford.edu/~amaas/data/sentiment/aclImdb_v1.tar.gz\n",
    "!tar -zxf ../data/aclImdb_v1.tar.gz -C ../data"
   ]
  },
  {
   "cell_type": "markdown",
   "metadata": {},
   "source": [
    "## Step 2: Preparing the data\n",
    "\n",
    "The data we have downloaded is split into various files, each of which contains a single review. It will be much easier going forward if we combine these individual files into two large files, one for training and one for testing."
   ]
  },
  {
   "cell_type": "code",
   "execution_count": 2,
   "metadata": {},
   "outputs": [],
   "source": [
    "import os\n",
    "import glob\n",
    "\n",
    "def read_imdb_data(data_dir='../data/aclImdb'):\n",
    "    data = {}\n",
    "    labels = {}\n",
    "    \n",
    "    for data_type in ['train', 'test']:\n",
    "        data[data_type] = {}\n",
    "        labels[data_type] = {}\n",
    "        \n",
    "        for sentiment in ['pos', 'neg']:\n",
    "            data[data_type][sentiment] = []\n",
    "            labels[data_type][sentiment] = []\n",
    "            \n",
    "            path = os.path.join(data_dir, data_type, sentiment, '*.txt')\n",
    "            files = glob.glob(path)\n",
    "            \n",
    "            for f in files:\n",
    "                with open(f) as review:\n",
    "                    data[data_type][sentiment].append(review.read())\n",
    "                    # Here we represent a positive review by '1' and a negative review by '0'\n",
    "                    labels[data_type][sentiment].append(1 if sentiment == 'pos' else 0)\n",
    "                    \n",
    "            assert len(data[data_type][sentiment]) == len(labels[data_type][sentiment]), \\\n",
    "                    \"{}/{} data size does not match labels size\".format(data_type, sentiment)\n",
    "                \n",
    "    return data, labels"
   ]
  },
  {
   "cell_type": "code",
   "execution_count": 3,
   "metadata": {},
   "outputs": [
    {
     "name": "stdout",
     "output_type": "stream",
     "text": [
      "IMDB reviews: train = 12500 pos / 12500 neg, test = 12500 pos / 12500 neg\n"
     ]
    }
   ],
   "source": [
    "data, labels = read_imdb_data()\n",
    "print(\"IMDB reviews: train = {} pos / {} neg, test = {} pos / {} neg\".format(\n",
    "            len(data['train']['pos']), len(data['train']['neg']),\n",
    "            len(data['test']['pos']), len(data['test']['neg'])))"
   ]
  },
  {
   "cell_type": "code",
   "execution_count": 4,
   "metadata": {},
   "outputs": [],
   "source": [
    "from sklearn.utils import shuffle\n",
    "\n",
    "def prepare_imdb_data(data, labels):\n",
    "    \"\"\"Prepare training and test sets from IMDb movie reviews.\"\"\"\n",
    "    \n",
    "    #Combine positive and negative reviews and labels\n",
    "    data_train = data['train']['pos'] + data['train']['neg']\n",
    "    data_test = data['test']['pos'] + data['test']['neg']\n",
    "    labels_train = labels['train']['pos'] + labels['train']['neg']\n",
    "    labels_test = labels['test']['pos'] + labels['test']['neg']\n",
    "    \n",
    "    #Shuffle reviews and corresponding labels within training and test sets\n",
    "    data_train, labels_train = shuffle(data_train, labels_train)\n",
    "    data_test, labels_test = shuffle(data_test, labels_test)\n",
    "    \n",
    "    # Return a unified training data, test data, training labels, test labets\n",
    "    return data_train, data_test, labels_train, labels_test"
   ]
  },
  {
   "cell_type": "code",
   "execution_count": 5,
   "metadata": {},
   "outputs": [
    {
     "name": "stdout",
     "output_type": "stream",
     "text": [
      "IMDb reviews (combined): train = 25000, test = 25000\n"
     ]
    }
   ],
   "source": [
    "train_X, test_X, train_y, test_y = prepare_imdb_data(data, labels)\n",
    "print(\"IMDb reviews (combined): train = {}, test = {}\".format(len(train_X), len(test_X)))"
   ]
  },
  {
   "cell_type": "code",
   "execution_count": 6,
   "metadata": {},
   "outputs": [
    {
     "data": {
      "text/plain": [
       "\"Okay so i found out about this movie and I watched the preview read almost all the reviews and was having a hard time debating whether I should watch it or not. Before i even watched the movie i was emotionally weird on it. i was so unsure if i was going to watch this and be disturbed for like a long time. So i choose to risk it and watched it and heres what i thought: The beginning started off fine for me. It seemed to be heading in a decent direction. Got past the rape scene and i couldn't figure why people were so disturbed or bored by the movie. Don't get me wrong the rape scene was just as sad and scary but it didn't really bother me to a dramatic point. Then as the middle came in i understood the boring stuff that was going on. There was like 5 minutes shots of nothing but people walking around saying or showing nothing! its one thing to have a shot where a person is showing some kind of emotion but this movie didn't have that. It had about 3 of these pointless scenes, where you see the main character Maya kind of get out of control but it didn't show it right making me want to fast forward. Then when she engaged in the hardcore partying it wasn't so boring but still a little dull. Oh and as a note Rosario Dawson still did a great job. Okay moving on so finally after an hour of pointlessness to the middle the revenge comes to Maya's attention. Thats where it got disturbing. I didn't feel bad for him or nothing he got what he deserved but the whole scene was really disturbing and i just felt all eck after it. I cant really tell you whether or not to watch this movie because its so...i don't know i cant find a word to sum it up. But if you choose to watch it just don't be unsuprised.\""
      ]
     },
     "execution_count": 6,
     "metadata": {},
     "output_type": "execute_result"
    }
   ],
   "source": [
    "train_X[100]"
   ]
  },
  {
   "cell_type": "markdown",
   "metadata": {},
   "source": [
    "## Step 3: Processing the data\n",
    "\n",
    "Now that we have our training and testing datasets merged and ready to use, we need to start processing the raw data into something that will be useable by our machine learning algorithm. To begin with, we remove any html formatting that may appear in the reviews and perform some standard natural language processing in order to homogenize the data."
   ]
  },
  {
   "cell_type": "code",
   "execution_count": 7,
   "metadata": {},
   "outputs": [
    {
     "name": "stdout",
     "output_type": "stream",
     "text": [
      "[nltk_data] Downloading package stopwords to\n",
      "[nltk_data]     /home/ec2-user/nltk_data...\n",
      "[nltk_data]   Package stopwords is already up-to-date!\n"
     ]
    }
   ],
   "source": [
    "import nltk\n",
    "nltk.download(\"stopwords\")\n",
    "from nltk.corpus import stopwords\n",
    "from nltk.stem.porter import *\n",
    "stemmer = PorterStemmer()"
   ]
  },
  {
   "cell_type": "code",
   "execution_count": 8,
   "metadata": {},
   "outputs": [],
   "source": [
    "import re\n",
    "from bs4 import BeautifulSoup\n",
    "\n",
    "def review_to_words(review):\n",
    "    text = BeautifulSoup(review, \"html.parser\").get_text() # Remove HTML tags\n",
    "    text = re.sub(r\"[^a-zA-Z0-9]\", \" \", text.lower()) # Convert to lower case\n",
    "    words = text.split() # Split string into words\n",
    "    words = [w for w in words if w not in stopwords.words(\"english\")] # Remove stopwords\n",
    "    words = [PorterStemmer().stem(w) for w in words] # stem\n",
    "    \n",
    "    return words"
   ]
  },
  {
   "cell_type": "code",
   "execution_count": 9,
   "metadata": {},
   "outputs": [],
   "source": [
    "import pickle\n",
    "\n",
    "cache_dir = os.path.join(\"../cache\", \"sentiment_analysis\")  # where to store cache files\n",
    "os.makedirs(cache_dir, exist_ok=True)  # ensure cache directory exists\n",
    "\n",
    "def preprocess_data(data_train, data_test, labels_train, labels_test,\n",
    "                    cache_dir=cache_dir, cache_file=\"preprocessed_data.pkl\"):\n",
    "    \"\"\"Convert each review to words; read from cache if available.\"\"\"\n",
    "\n",
    "    # If cache_file is not None, try to read from it first\n",
    "    cache_data = None\n",
    "    if cache_file is not None:\n",
    "        try:\n",
    "            with open(os.path.join(cache_dir, cache_file), \"rb\") as f:\n",
    "                cache_data = pickle.load(f)\n",
    "            print(\"Read preprocessed data from cache file:\", cache_file)\n",
    "        except:\n",
    "            pass  # unable to read from cache, but that's okay\n",
    "    \n",
    "    # If cache is missing, then do the heavy lifting\n",
    "    if cache_data is None:\n",
    "        # Preprocess training and test data to obtain words for each review\n",
    "        #words_train = list(map(review_to_words, data_train))\n",
    "        #words_test = list(map(review_to_words, data_test))\n",
    "        words_train = [review_to_words(review) for review in data_train]\n",
    "        words_test = [review_to_words(review) for review in data_test]\n",
    "        \n",
    "        # Write to cache file for future runs\n",
    "        if cache_file is not None:\n",
    "            cache_data = dict(words_train=words_train, words_test=words_test,\n",
    "                              labels_train=labels_train, labels_test=labels_test)\n",
    "            with open(os.path.join(cache_dir, cache_file), \"wb\") as f:\n",
    "                pickle.dump(cache_data, f)\n",
    "            print(\"Wrote preprocessed data to cache file:\", cache_file)\n",
    "    else:\n",
    "        # Unpack data loaded from cache file\n",
    "        words_train, words_test, labels_train, labels_test = (cache_data['words_train'],\n",
    "                cache_data['words_test'], cache_data['labels_train'], cache_data['labels_test'])\n",
    "    \n",
    "    return words_train, words_test, labels_train, labels_test"
   ]
  },
  {
   "cell_type": "code",
   "execution_count": 10,
   "metadata": {},
   "outputs": [
    {
     "name": "stdout",
     "output_type": "stream",
     "text": [
      "Read preprocessed data from cache file: preprocessed_data.pkl\n",
      "CPU times: user 798 ms, sys: 199 ms, total: 997 ms\n",
      "Wall time: 979 ms\n"
     ]
    }
   ],
   "source": [
    "%%time\n",
    "# Preprocess data\n",
    "train_X, test_X, train_y, test_y = preprocess_data(train_X, test_X, train_y, test_y)"
   ]
  },
  {
   "cell_type": "markdown",
   "metadata": {},
   "source": [
    "### Extract Bag-of-Words features\n",
    "\n",
    "For the model we will be implementing, rather than using the reviews directly, we are going to transform each review into a Bag-of-Words feature representation. Keep in mind that 'in the wild' we will only have access to the training set so our transformer can only use the training set to construct a representation."
   ]
  },
  {
   "cell_type": "code",
   "execution_count": 11,
   "metadata": {},
   "outputs": [],
   "source": [
    "import numpy as np\n",
    "from sklearn.feature_extraction.text import CountVectorizer\n",
    "from sklearn.externals import joblib\n",
    "# joblib is an enhanced version of pickle that is more efficient for storing NumPy arrays\n",
    "\n",
    "def extract_BoW_features(words_train, words_test, vocabulary_size=5000,\n",
    "                         cache_dir=cache_dir, cache_file=\"bow_features.pkl\"):\n",
    "    \"\"\"Extract Bag-of-Words for a given set of documents, already preprocessed into words.\"\"\"\n",
    "    \n",
    "    # If cache_file is not None, try to read from it first\n",
    "    cache_data = None\n",
    "    if cache_file is not None:\n",
    "        try:\n",
    "            with open(os.path.join(cache_dir, cache_file), \"rb\") as f:\n",
    "                cache_data = joblib.load(f)\n",
    "            print(\"Read features from cache file:\", cache_file)\n",
    "        except:\n",
    "            pass  # unable to read from cache, but that's okay\n",
    "    \n",
    "    # If cache is missing, then do the heavy lifting\n",
    "    if cache_data is None:\n",
    "        # Fit a vectorizer to training documents and use it to transform them\n",
    "        # NOTE: Training documents have already been preprocessed and tokenized into words;\n",
    "        #       pass in dummy functions to skip those steps, e.g. preprocessor=lambda x: x\n",
    "        vectorizer = CountVectorizer(max_features=vocabulary_size,\n",
    "                preprocessor=lambda x: x, tokenizer=lambda x: x)  # already preprocessed\n",
    "        features_train = vectorizer.fit_transform(words_train).toarray()\n",
    "\n",
    "        # Apply the same vectorizer to transform the test documents (ignore unknown words)\n",
    "        features_test = vectorizer.transform(words_test).toarray()\n",
    "        \n",
    "        # NOTE: Remember to convert the features using .toarray() for a compact representation\n",
    "        \n",
    "        # Write to cache file for future runs (store vocabulary as well)\n",
    "        if cache_file is not None:\n",
    "            vocabulary = vectorizer.vocabulary_\n",
    "            cache_data = dict(features_train=features_train, features_test=features_test,\n",
    "                             vocabulary=vocabulary)\n",
    "            with open(os.path.join(cache_dir, cache_file), \"wb\") as f:\n",
    "                joblib.dump(cache_data, f)\n",
    "            print(\"Wrote features to cache file:\", cache_file)\n",
    "    else:\n",
    "        # Unpack data loaded from cache file\n",
    "        features_train, features_test, vocabulary = (cache_data['features_train'],\n",
    "                cache_data['features_test'], cache_data['vocabulary'])\n",
    "    \n",
    "    # Return both the extracted features as well as the vocabulary\n",
    "    return features_train, features_test, vocabulary"
   ]
  },
  {
   "cell_type": "code",
   "execution_count": 12,
   "metadata": {},
   "outputs": [
    {
     "name": "stdout",
     "output_type": "stream",
     "text": [
      "Read features from cache file: bow_features.pkl\n",
      "CPU times: user 565 ms, sys: 1.17 s, total: 1.73 s\n",
      "Wall time: 1.73 s\n"
     ]
    }
   ],
   "source": [
    "%%time\n",
    "# Extract Bag of Words features for both training and test datasets\n",
    "train_X, test_X, vocabulary = extract_BoW_features(train_X, test_X)"
   ]
  },
  {
   "cell_type": "markdown",
   "metadata": {},
   "source": [
    "## Step 4: Classification using XGBoost\n",
    "\n",
    "Now that we have created the feature representation of our training (and testing) data, it is time to start setting up and using the XGBoost classifier provided by SageMaker.\n",
    "\n",
    "### Writing the dataset\n",
    "\n",
    "The XGBoost classifier that we will be using requires the dataset to be written to a file and stored using Amazon S3. To do this, we will start by splitting the training dataset into two parts, the data we will train the model with and a validation set. Then, we will write those datasets to a file and upload the files to S3. In addition, we will write the test set input to a file and upload the file to S3. This is so that we can use SageMakers Batch Transform functionality to test our model once we've fit it."
   ]
  },
  {
   "cell_type": "code",
   "execution_count": 13,
   "metadata": {},
   "outputs": [],
   "source": [
    "import pandas as pd\n",
    "\n",
    "val_X = pd.DataFrame(train_X[:10000])\n",
    "train_X = pd.DataFrame(train_X[10000:])\n",
    "\n",
    "val_y = pd.DataFrame(train_y[:10000])\n",
    "train_y = pd.DataFrame(train_y[10000:])\n",
    "\n",
    "test_y = pd.DataFrame(test_y)\n",
    "test_X = pd.DataFrame(test_X)"
   ]
  },
  {
   "cell_type": "markdown",
   "metadata": {},
   "source": [
    "The documentation for the XGBoost algorithm in SageMaker requires that the saved datasets should contain no headers or index and that for the training and validation data, the label should occur first for each sample.\n",
    "\n",
    "For more information about this and other algorithms, the SageMaker developer documentation can be found on __[Amazon's website.](https://docs.aws.amazon.com/sagemaker/latest/dg/)__"
   ]
  },
  {
   "cell_type": "code",
   "execution_count": 14,
   "metadata": {},
   "outputs": [],
   "source": [
    "# First we make sure that the local directory in which we'd like to store the training and validation csv files exists.\n",
    "data_dir = '../data/xgboost'\n",
    "if not os.path.exists(data_dir):\n",
    "    os.makedirs(data_dir)"
   ]
  },
  {
   "cell_type": "code",
   "execution_count": 15,
   "metadata": {},
   "outputs": [
    {
     "name": "stdout",
     "output_type": "stream",
     "text": [
      "CPU times: user 4min 19s, sys: 13 s, total: 4min 32s\n",
      "Wall time: 4min 32s\n"
     ]
    }
   ],
   "source": [
    "%%time\n",
    "# First, save the test data to test.csv in the data_dir directory. Note that we do not save the associated ground truth\n",
    "# labels, instead we will use them later to compare with our model output.\n",
    "\n",
    "pd.concat([test_y, test_X], axis=1).to_csv(os.path.join(data_dir, 'test.csv'), header=False, index=False)\n",
    "pd.concat([val_y, val_X], axis=1).to_csv(os.path.join(data_dir, 'validation.csv'), header=False, index=False)\n",
    "pd.concat([train_y, train_X], axis=1).to_csv(os.path.join(data_dir, 'train.csv'), header=False, index=False)"
   ]
  },
  {
   "cell_type": "code",
   "execution_count": 16,
   "metadata": {},
   "outputs": [],
   "source": [
    "# To save a bit of memory we can set text_X, train_X, val_X, train_y and val_y to None.\n",
    "\n",
    "train_X = val_X = train_y = val_y = None"
   ]
  },
  {
   "cell_type": "markdown",
   "metadata": {},
   "source": [
    "### Uploading Training / Validation files to S3\n",
    "\n",
    "Amazon's S3 service allows us to store files that can be access by both the built-in training models such as the XGBoost model we will be using as well as custom models such as the one we will see a little later.\n",
    "\n",
    "For this, and most other tasks we will be doing using SageMaker, there are two methods we could use. The first is to use the low level functionality of SageMaker which requires knowing each of the objects involved in the SageMaker environment. The second is to use the high level functionality in which certain choices have been made on the user's behalf. The low level approach benefits from allowing the user a great deal of flexibility while the high level approach makes development much quicker. For our purposes we will opt to use the high level approach although using the low-level approach is certainly an option.\n",
    "\n",
    "Recall the method `upload_data()` which is a member of object representing our current SageMaker session. What this method does is upload the data to the default bucket (which is created if it does not exist) into the path described by the key_prefix variable. To see this for yourself, once you have uploaded the data files, go to the S3 console and look to see where the files have been uploaded.\n",
    "\n",
    "For additional resources, see the __[SageMaker API documentation](http://sagemaker.readthedocs.io/en/latest/)__ and in addition the __[SageMaker Developer Guide.](https://docs.aws.amazon.com/sagemaker/latest/dg/)__"
   ]
  },
  {
   "cell_type": "code",
   "execution_count": 17,
   "metadata": {},
   "outputs": [
    {
     "name": "stdout",
     "output_type": "stream",
     "text": [
      "CPU times: user 6.43 s, sys: 1.15 s, total: 7.59 s\n",
      "Wall time: 15.3 s\n"
     ]
    }
   ],
   "source": [
    "%%time\n",
    "import sagemaker\n",
    "\n",
    "session = sagemaker.Session() # Store the current SageMaker session\n",
    "\n",
    "# S3 prefix (which folder will we use)\n",
    "prefix = 'sentiment-xgboost'\n",
    "\n",
    "test_location = session.upload_data(os.path.join(data_dir, 'test.csv'), key_prefix=prefix)\n",
    "val_location = session.upload_data(os.path.join(data_dir, 'validation.csv'), key_prefix=prefix)\n",
    "train_location = session.upload_data(os.path.join(data_dir, 'train.csv'), key_prefix=prefix)"
   ]
  },
  {
   "cell_type": "markdown",
   "metadata": {},
   "source": [
    "### (TODO) Creating a hypertuned XGBoost model\n",
    "\n",
    "Now that the data has been uploaded it is time to create the XGBoost model. As in the Boston Housing notebook, the first step is to create an estimator object which will be used as the *base* of your hyperparameter tuning job."
   ]
  },
  {
   "cell_type": "code",
   "execution_count": 18,
   "metadata": {},
   "outputs": [],
   "source": [
    "from sagemaker import get_execution_role\n",
    "\n",
    "# Our current execution role is require when creating the model as the training\n",
    "# and inference code will need to access the model artifacts.\n",
    "role = get_execution_role()"
   ]
  },
  {
   "cell_type": "code",
   "execution_count": 19,
   "metadata": {},
   "outputs": [],
   "source": [
    "# We need to retrieve the location of the container which is provided by Amazon for using XGBoost.\n",
    "# As a matter of convenience, the training and inference code both use the same container.\n",
    "from sagemaker.amazon.amazon_estimator import get_image_uri\n",
    "\n",
    "container = get_image_uri(session.boto_region_name, 'xgboost',  '0.90-1')"
   ]
  },
  {
   "cell_type": "code",
   "execution_count": 20,
   "metadata": {},
   "outputs": [],
   "source": [
    "# TODO: Create a SageMaker estimator using the container location determined in the previous cell.\n",
    "#       It is recommended that you use a single training instance of type ml.m4.xlarge. It is also\n",
    "#       recommended that you use 's3://{}/{}/output'.format(session.default_bucket(), prefix) as the\n",
    "#       output path.\n",
    "\n",
    "xgb = sagemaker.estimator.Estimator(container, # The location of the container we wish to use\n",
    "                                    role,                                    # What is our current IAM Role\n",
    "                                    train_instance_count=1,                  # How many compute instances\n",
    "                                    train_instance_type='ml.m4.xlarge',      # What kind of compute instances\n",
    "                                    output_path='s3://{}/{}/output'.format(session.default_bucket(), prefix),\n",
    "                                    sagemaker_session=session)\n",
    "\n",
    "# TODO: Set the XGBoost hyperparameters in the xgb object. Don't forget that in this case we have a binary\n",
    "#       label so we should be using the 'binary:logistic' objective.\n",
    "\n",
    "xgb.set_hyperparameters(max_depth=5,\n",
    "                        eta=0.2,\n",
    "                        gamma=4,\n",
    "                        min_child_weight=6,\n",
    "                        subsample=0.8,\n",
    "                        silent=0,\n",
    "                        objective='binary:logistic',\n",
    "                        early_stopping_rounds=10,\n",
    "                        num_round=500)"
   ]
  },
  {
   "cell_type": "markdown",
   "metadata": {},
   "source": [
    "### (TODO) Create the hyperparameter tuner\n",
    "\n",
    "Now that the base estimator has been set up we need to construct a hyperparameter tuner object which we will use to request SageMaker construct a hyperparameter tuning job.\n",
    "\n",
    "**Note:** Training a single sentiment analysis XGBoost model takes longer than training a Boston Housing XGBoost model so if you don't want the hyperparameter tuning job to take too long, make sure to not set the total number of models (jobs) too high."
   ]
  },
  {
   "cell_type": "code",
   "execution_count": 21,
   "metadata": {},
   "outputs": [],
   "source": [
    "# First, make sure to import the relevant objects used to construct the tuner\n",
    "from sagemaker.tuner import IntegerParameter, ContinuousParameter, HyperparameterTuner\n",
    "\n",
    "# TODO: Create the hyperparameter tuner object\n",
    "\n",
    "xgb_hyperparameter_tuner = HyperparameterTuner(estimator = xgb, # The estimator object to use as the basis for the training jobs.\n",
    "                                               objective_metric_name = 'validation:rmse', # The metric used to compare trained models.\n",
    "                                               objective_type = 'Minimize', # Whether we wish to minimize or maximize the metric.\n",
    "                                               max_jobs = 6, # The total number of models to train\n",
    "                                               max_parallel_jobs = 3, # The number of models to train in parallel\n",
    "                                               hyperparameter_ranges = {\n",
    "                                                    'max_depth': IntegerParameter(3, 12),\n",
    "                                                    'eta'      : ContinuousParameter(0.05, 0.5),\n",
    "                                                    'min_child_weight': IntegerParameter(2, 8),\n",
    "                                                    'subsample': ContinuousParameter(0.5, 0.9),\n",
    "                                                    'gamma': ContinuousParameter(0, 10),\n",
    "                                               })"
   ]
  },
  {
   "cell_type": "markdown",
   "metadata": {},
   "source": [
    "### Fit the hyperparameter tuner\n",
    "\n",
    "Now that the hyperparameter tuner object has been constructed, it is time to fit the various models and find the best performing model."
   ]
  },
  {
   "cell_type": "code",
   "execution_count": 22,
   "metadata": {},
   "outputs": [
    {
     "name": "stdout",
     "output_type": "stream",
     "text": [
      "CPU times: user 11 µs, sys: 1 µs, total: 12 µs\n",
      "Wall time: 17.9 µs\n"
     ]
    }
   ],
   "source": [
    "%%time\n",
    "s3_input_train = sagemaker.s3_input(s3_data=train_location, content_type='csv')\n",
    "s3_input_validation = sagemaker.s3_input(s3_data=val_location, content_type='csv')"
   ]
  },
  {
   "cell_type": "code",
   "execution_count": 23,
   "metadata": {},
   "outputs": [
    {
     "name": "stdout",
     "output_type": "stream",
     "text": [
      "CPU times: user 14.1 ms, sys: 114 µs, total: 14.2 ms\n",
      "Wall time: 357 ms\n"
     ]
    }
   ],
   "source": [
    "%%time\n",
    "xgb_hyperparameter_tuner.fit({'train': s3_input_train, 'validation': s3_input_validation})"
   ]
  },
  {
   "cell_type": "markdown",
   "metadata": {},
   "source": [
    "Remember that the tuning job is constructed and run in the background so if we want to see the progress of our training job we need to call the `wait()` method."
   ]
  },
  {
   "cell_type": "code",
   "execution_count": 24,
   "metadata": {},
   "outputs": [
    {
     "name": "stdout",
     "output_type": "stream",
     "text": [
      "..................................................................................................................................................................................................................................................................................................................................................!\n"
     ]
    }
   ],
   "source": [
    "xgb_hyperparameter_tuner.wait()"
   ]
  },
  {
   "cell_type": "markdown",
   "metadata": {},
   "source": [
    "### (TODO) Testing the model\n",
    "\n",
    "Now that we've run our hyperparameter tuning job, it's time to see how well the best performing model actually performs. To do this we will use SageMaker's Batch Transform functionality. Batch Transform is a convenient way to perform inference on a large dataset in a way that is not realtime. That is, we don't necessarily need to use our model's results immediately and instead we can peform inference on a large number of samples. An example of this in industry might be peforming an end of month report. This method of inference can also be useful to us as it means to can perform inference on our entire test set. \n",
    "\n",
    "Remember that in order to create a transformer object to perform the batch transform job, we need a trained estimator object. We can do that using the `attach()` method, creating an estimator object which is attached to the best trained job."
   ]
  },
  {
   "cell_type": "code",
   "execution_count": 25,
   "metadata": {},
   "outputs": [
    {
     "name": "stdout",
     "output_type": "stream",
     "text": [
      "2020-04-19 01:30:55 Starting - Preparing the instances for training\n",
      "2020-04-19 01:30:55 Downloading - Downloading input data\n",
      "2020-04-19 01:30:55 Training - Training image download completed. Training in progress.\n",
      "2020-04-19 01:30:55 Uploading - Uploading generated training model\n",
      "2020-04-19 01:30:55 Completed - Training job completed\u001b[34mINFO:sagemaker-containers:Imported framework sagemaker_xgboost_container.training\u001b[0m\n",
      "\u001b[34mINFO:sagemaker-containers:Failed to parse hyperparameter _tuning_objective_metric value validation:rmse to Json.\u001b[0m\n",
      "\u001b[34mReturning the value itself\u001b[0m\n",
      "\u001b[34mINFO:sagemaker-containers:Failed to parse hyperparameter objective value binary:logistic to Json.\u001b[0m\n",
      "\u001b[34mReturning the value itself\u001b[0m\n",
      "\u001b[34mINFO:sagemaker-containers:No GPUs detected (normal if no gpus installed)\u001b[0m\n",
      "\u001b[34mINFO:sagemaker_xgboost_container.training:Running XGBoost Sagemaker in algorithm mode\u001b[0m\n",
      "\u001b[34mINFO:root:Determined delimiter of CSV input is ','\u001b[0m\n",
      "\u001b[34mINFO:root:Determined delimiter of CSV input is ','\u001b[0m\n",
      "\u001b[34mINFO:root:Determined delimiter of CSV input is ','\u001b[0m\n",
      "\u001b[34m[01:23:04] 15000x5000 matrix with 75000000 entries loaded from /opt/ml/input/data/train?format=csv&label_column=0&delimiter=,\u001b[0m\n",
      "\u001b[34mINFO:root:Determined delimiter of CSV input is ','\u001b[0m\n",
      "\u001b[34m[01:23:05] 10000x5000 matrix with 50000000 entries loaded from /opt/ml/input/data/validation?format=csv&label_column=0&delimiter=,\u001b[0m\n",
      "\u001b[34mINFO:root:Single node training.\u001b[0m\n",
      "\u001b[34mINFO:root:Setting up HPO optimized metric to be : rmse\u001b[0m\n",
      "\u001b[34mINFO:root:Train matrix has 15000 rows\u001b[0m\n",
      "\u001b[34mINFO:root:Validation matrix has 10000 rows\u001b[0m\n",
      "\u001b[34m[0]#011train-rmse:0.477886#011validation-rmse:0.479556\u001b[0m\n",
      "\u001b[34m[1]#011train-rmse:0.461759#011validation-rmse:0.464634\u001b[0m\n",
      "\u001b[34m[2]#011train-rmse:0.448728#011validation-rmse:0.453315\u001b[0m\n",
      "\u001b[34m[3]#011train-rmse:0.438329#011validation-rmse:0.443706\u001b[0m\n",
      "\u001b[34m[4]#011train-rmse:0.429877#011validation-rmse:0.435347\u001b[0m\n",
      "\u001b[34m[5]#011train-rmse:0.421974#011validation-rmse:0.428909\u001b[0m\n",
      "\u001b[34m[6]#011train-rmse:0.415274#011validation-rmse:0.42312\u001b[0m\n",
      "\u001b[34m[7]#011train-rmse:0.408588#011validation-rmse:0.418193\u001b[0m\n",
      "\u001b[34m[8]#011train-rmse:0.40352#011validation-rmse:0.413771\u001b[0m\n",
      "\u001b[34m[9]#011train-rmse:0.398555#011validation-rmse:0.410135\u001b[0m\n",
      "\u001b[34m[10]#011train-rmse:0.393974#011validation-rmse:0.406429\u001b[0m\n",
      "\u001b[34m[11]#011train-rmse:0.389751#011validation-rmse:0.40282\u001b[0m\n",
      "\u001b[34m[12]#011train-rmse:0.384483#011validation-rmse:0.399284\u001b[0m\n",
      "\u001b[34m[13]#011train-rmse:0.380382#011validation-rmse:0.396115\u001b[0m\n",
      "\u001b[34m[14]#011train-rmse:0.376941#011validation-rmse:0.393151\u001b[0m\n",
      "\u001b[34m[15]#011train-rmse:0.373576#011validation-rmse:0.390373\u001b[0m\n",
      "\u001b[34m[16]#011train-rmse:0.370223#011validation-rmse:0.388234\u001b[0m\n",
      "\u001b[34m[17]#011train-rmse:0.366978#011validation-rmse:0.385836\u001b[0m\n",
      "\u001b[34m[18]#011train-rmse:0.364171#011validation-rmse:0.383466\u001b[0m\n",
      "\u001b[34m[19]#011train-rmse:0.361405#011validation-rmse:0.381256\u001b[0m\n",
      "\u001b[34m[20]#011train-rmse:0.358957#011validation-rmse:0.379666\u001b[0m\n",
      "\u001b[34m[21]#011train-rmse:0.356542#011validation-rmse:0.377763\u001b[0m\n",
      "\u001b[34m[22]#011train-rmse:0.353941#011validation-rmse:0.375648\u001b[0m\n",
      "\u001b[34m[23]#011train-rmse:0.351457#011validation-rmse:0.373597\u001b[0m\n",
      "\u001b[34m[24]#011train-rmse:0.34904#011validation-rmse:0.372183\u001b[0m\n",
      "\u001b[34m[25]#011train-rmse:0.346969#011validation-rmse:0.370739\u001b[0m\n",
      "\u001b[34m[26]#011train-rmse:0.345338#011validation-rmse:0.369326\u001b[0m\n",
      "\u001b[34m[27]#011train-rmse:0.343151#011validation-rmse:0.367858\u001b[0m\n",
      "\u001b[34m[28]#011train-rmse:0.340891#011validation-rmse:0.366337\u001b[0m\n",
      "\u001b[34m[29]#011train-rmse:0.338948#011validation-rmse:0.365047\u001b[0m\n",
      "\u001b[34m[30]#011train-rmse:0.337172#011validation-rmse:0.363917\u001b[0m\n",
      "\u001b[34m[31]#011train-rmse:0.33527#011validation-rmse:0.36277\u001b[0m\n",
      "\u001b[34m[32]#011train-rmse:0.3336#011validation-rmse:0.361387\u001b[0m\n",
      "\u001b[34m[33]#011train-rmse:0.33205#011validation-rmse:0.360353\u001b[0m\n",
      "\u001b[34m[34]#011train-rmse:0.32994#011validation-rmse:0.359165\u001b[0m\n",
      "\u001b[34m[35]#011train-rmse:0.328575#011validation-rmse:0.358334\u001b[0m\n",
      "\u001b[34m[36]#011train-rmse:0.327149#011validation-rmse:0.357148\u001b[0m\n",
      "\u001b[34m[37]#011train-rmse:0.325928#011validation-rmse:0.356173\u001b[0m\n",
      "\u001b[34m[38]#011train-rmse:0.323871#011validation-rmse:0.354917\u001b[0m\n",
      "\u001b[34m[39]#011train-rmse:0.322472#011validation-rmse:0.354155\u001b[0m\n",
      "\u001b[34m[40]#011train-rmse:0.321165#011validation-rmse:0.352938\u001b[0m\n",
      "\u001b[34m[41]#011train-rmse:0.319706#011validation-rmse:0.352256\u001b[0m\n",
      "\u001b[34m[42]#011train-rmse:0.318166#011validation-rmse:0.351385\u001b[0m\n",
      "\u001b[34m[43]#011train-rmse:0.316979#011validation-rmse:0.350536\u001b[0m\n",
      "\u001b[34m[44]#011train-rmse:0.316027#011validation-rmse:0.349664\u001b[0m\n",
      "\u001b[34m[45]#011train-rmse:0.315092#011validation-rmse:0.349158\u001b[0m\n",
      "\u001b[34m[46]#011train-rmse:0.313739#011validation-rmse:0.348149\u001b[0m\n",
      "\u001b[34m[47]#011train-rmse:0.312712#011validation-rmse:0.347494\u001b[0m\n",
      "\u001b[34m[48]#011train-rmse:0.3116#011validation-rmse:0.346737\u001b[0m\n",
      "\u001b[34m[49]#011train-rmse:0.310446#011validation-rmse:0.346208\u001b[0m\n",
      "\u001b[34m[50]#011train-rmse:0.309395#011validation-rmse:0.345503\u001b[0m\n",
      "\u001b[34m[51]#011train-rmse:0.308276#011validation-rmse:0.344925\u001b[0m\n",
      "\u001b[34m[52]#011train-rmse:0.307032#011validation-rmse:0.34438\u001b[0m\n",
      "\u001b[34m[53]#011train-rmse:0.306253#011validation-rmse:0.343922\u001b[0m\n",
      "\u001b[34m[54]#011train-rmse:0.305081#011validation-rmse:0.34331\u001b[0m\n",
      "\u001b[34m[55]#011train-rmse:0.304114#011validation-rmse:0.342718\u001b[0m\n",
      "\u001b[34m[56]#011train-rmse:0.303215#011validation-rmse:0.342121\u001b[0m\n",
      "\u001b[34m[57]#011train-rmse:0.302476#011validation-rmse:0.341403\u001b[0m\n",
      "\u001b[34m[58]#011train-rmse:0.301553#011validation-rmse:0.340942\u001b[0m\n",
      "\u001b[34m[59]#011train-rmse:0.300631#011validation-rmse:0.340315\u001b[0m\n",
      "\u001b[34m[60]#011train-rmse:0.29929#011validation-rmse:0.339611\u001b[0m\n",
      "\u001b[34m[61]#011train-rmse:0.298156#011validation-rmse:0.3391\u001b[0m\n",
      "\u001b[34m[62]#011train-rmse:0.297261#011validation-rmse:0.338651\u001b[0m\n",
      "\u001b[34m[63]#011train-rmse:0.296397#011validation-rmse:0.33819\u001b[0m\n",
      "\u001b[34m[64]#011train-rmse:0.295738#011validation-rmse:0.337538\u001b[0m\n",
      "\u001b[34m[65]#011train-rmse:0.295143#011validation-rmse:0.336924\u001b[0m\n",
      "\u001b[34m[66]#011train-rmse:0.29442#011validation-rmse:0.336392\u001b[0m\n",
      "\u001b[34m[67]#011train-rmse:0.293727#011validation-rmse:0.33616\u001b[0m\n",
      "\u001b[34m[68]#011train-rmse:0.293015#011validation-rmse:0.335652\u001b[0m\n",
      "\u001b[34m[69]#011train-rmse:0.291936#011validation-rmse:0.335038\u001b[0m\n",
      "\u001b[34m[70]#011train-rmse:0.290559#011validation-rmse:0.334376\u001b[0m\n",
      "\u001b[34m[71]#011train-rmse:0.289638#011validation-rmse:0.33407\u001b[0m\n",
      "\u001b[34m[72]#011train-rmse:0.288934#011validation-rmse:0.333725\u001b[0m\n",
      "\u001b[34m[73]#011train-rmse:0.288056#011validation-rmse:0.333183\u001b[0m\n",
      "\u001b[34m[74]#011train-rmse:0.287543#011validation-rmse:0.332939\u001b[0m\n",
      "\u001b[34m[75]#011train-rmse:0.287056#011validation-rmse:0.332647\u001b[0m\n",
      "\u001b[34m[76]#011train-rmse:0.286299#011validation-rmse:0.33239\u001b[0m\n",
      "\u001b[34m[77]#011train-rmse:0.285694#011validation-rmse:0.331812\u001b[0m\n",
      "\u001b[34m[78]#011train-rmse:0.284688#011validation-rmse:0.331359\u001b[0m\n",
      "\u001b[34m[79]#011train-rmse:0.284082#011validation-rmse:0.330976\u001b[0m\n",
      "\u001b[34m[80]#011train-rmse:0.283301#011validation-rmse:0.330517\u001b[0m\n",
      "\u001b[34m[81]#011train-rmse:0.282339#011validation-rmse:0.330043\u001b[0m\n",
      "\u001b[34m[82]#011train-rmse:0.281119#011validation-rmse:0.329713\u001b[0m\n",
      "\u001b[34m[83]#011train-rmse:0.280457#011validation-rmse:0.329403\u001b[0m\n",
      "\u001b[34m[84]#011train-rmse:0.279703#011validation-rmse:0.329214\u001b[0m\n",
      "\u001b[34m[85]#011train-rmse:0.279153#011validation-rmse:0.328633\u001b[0m\n",
      "\u001b[34m[86]#011train-rmse:0.278404#011validation-rmse:0.328343\u001b[0m\n",
      "\u001b[34m[87]#011train-rmse:0.2779#011validation-rmse:0.327911\u001b[0m\n",
      "\u001b[34m[88]#011train-rmse:0.276903#011validation-rmse:0.327548\u001b[0m\n",
      "\u001b[34m[89]#011train-rmse:0.276032#011validation-rmse:0.327252\u001b[0m\n",
      "\u001b[34m[90]#011train-rmse:0.275592#011validation-rmse:0.326966\u001b[0m\n",
      "\u001b[34m[91]#011train-rmse:0.274964#011validation-rmse:0.326755\u001b[0m\n",
      "\u001b[34m[92]#011train-rmse:0.274452#011validation-rmse:0.326429\u001b[0m\n",
      "\u001b[34m[93]#011train-rmse:0.273674#011validation-rmse:0.326255\u001b[0m\n",
      "\u001b[34m[94]#011train-rmse:0.272985#011validation-rmse:0.32603\u001b[0m\n",
      "\u001b[34m[95]#011train-rmse:0.272439#011validation-rmse:0.325515\u001b[0m\n",
      "\u001b[34m[96]#011train-rmse:0.271776#011validation-rmse:0.325238\u001b[0m\n",
      "\u001b[34m[97]#011train-rmse:0.271401#011validation-rmse:0.324742\u001b[0m\n",
      "\u001b[34m[98]#011train-rmse:0.270826#011validation-rmse:0.324333\u001b[0m\n",
      "\u001b[34m[99]#011train-rmse:0.270449#011validation-rmse:0.32407\u001b[0m\n",
      "\u001b[34m[100]#011train-rmse:0.270079#011validation-rmse:0.32392\u001b[0m\n",
      "\u001b[34m[101]#011train-rmse:0.269125#011validation-rmse:0.323661\u001b[0m\n",
      "\u001b[34m[102]#011train-rmse:0.268574#011validation-rmse:0.323257\u001b[0m\n",
      "\u001b[34m[103]#011train-rmse:0.268001#011validation-rmse:0.323143\u001b[0m\n",
      "\u001b[34m[104]#011train-rmse:0.26733#011validation-rmse:0.322915\u001b[0m\n",
      "\u001b[34m[105]#011train-rmse:0.266952#011validation-rmse:0.322809\u001b[0m\n",
      "\u001b[34m[106]#011train-rmse:0.266545#011validation-rmse:0.322518\u001b[0m\n",
      "\u001b[34m[107]#011train-rmse:0.266016#011validation-rmse:0.322169\u001b[0m\n",
      "\u001b[34m[108]#011train-rmse:0.265466#011validation-rmse:0.322078\u001b[0m\n",
      "\u001b[34m[109]#011train-rmse:0.265135#011validation-rmse:0.322134\u001b[0m\n",
      "\u001b[34m[110]#011train-rmse:0.264675#011validation-rmse:0.321926\u001b[0m\n",
      "\u001b[34m[111]#011train-rmse:0.26418#011validation-rmse:0.32156\u001b[0m\n",
      "\u001b[34m[112]#011train-rmse:0.263352#011validation-rmse:0.321636\u001b[0m\n",
      "\u001b[34m[113]#011train-rmse:0.262972#011validation-rmse:0.321471\u001b[0m\n",
      "\u001b[34m[114]#011train-rmse:0.262643#011validation-rmse:0.32128\u001b[0m\n",
      "\u001b[34m[115]#011train-rmse:0.262061#011validation-rmse:0.320988\u001b[0m\n",
      "\u001b[34m[116]#011train-rmse:0.261711#011validation-rmse:0.320991\u001b[0m\n",
      "\u001b[34m[117]#011train-rmse:0.261272#011validation-rmse:0.320925\u001b[0m\n",
      "\u001b[34m[118]#011train-rmse:0.26085#011validation-rmse:0.320723\u001b[0m\n",
      "\u001b[34m[119]#011train-rmse:0.260528#011validation-rmse:0.320615\u001b[0m\n",
      "\u001b[34m[120]#011train-rmse:0.259966#011validation-rmse:0.320732\u001b[0m\n",
      "\u001b[34m[121]#011train-rmse:0.259053#011validation-rmse:0.320505\u001b[0m\n",
      "\u001b[34m[122]#011train-rmse:0.258695#011validation-rmse:0.320318\u001b[0m\n",
      "\u001b[34m[123]#011train-rmse:0.258228#011validation-rmse:0.32032\u001b[0m\n",
      "\u001b[34m[124]#011train-rmse:0.25784#011validation-rmse:0.320023\u001b[0m\n",
      "\u001b[34m[125]#011train-rmse:0.2574#011validation-rmse:0.319803\u001b[0m\n",
      "\u001b[34m[126]#011train-rmse:0.257072#011validation-rmse:0.319855\u001b[0m\n",
      "\u001b[34m[127]#011train-rmse:0.256728#011validation-rmse:0.319752\u001b[0m\n",
      "\u001b[34m[128]#011train-rmse:0.256329#011validation-rmse:0.319508\u001b[0m\n",
      "\u001b[34m[129]#011train-rmse:0.255983#011validation-rmse:0.319276\u001b[0m\n",
      "\u001b[34m[130]#011train-rmse:0.255618#011validation-rmse:0.319133\u001b[0m\n",
      "\u001b[34m[131]#011train-rmse:0.255126#011validation-rmse:0.318986\u001b[0m\n",
      "\u001b[34m[132]#011train-rmse:0.254443#011validation-rmse:0.318543\u001b[0m\n",
      "\u001b[34m[133]#011train-rmse:0.254105#011validation-rmse:0.318531\u001b[0m\n",
      "\u001b[34m[134]#011train-rmse:0.253782#011validation-rmse:0.318518\u001b[0m\n",
      "\u001b[34m[135]#011train-rmse:0.253379#011validation-rmse:0.318348\u001b[0m\n",
      "\u001b[34m[136]#011train-rmse:0.252917#011validation-rmse:0.318108\u001b[0m\n",
      "\u001b[34m[137]#011train-rmse:0.252545#011validation-rmse:0.31788\u001b[0m\n",
      "\u001b[34m[138]#011train-rmse:0.252266#011validation-rmse:0.317512\u001b[0m\n",
      "\u001b[34m[139]#011train-rmse:0.251968#011validation-rmse:0.317344\u001b[0m\n",
      "\u001b[34m[140]#011train-rmse:0.251673#011validation-rmse:0.317197\u001b[0m\n",
      "\u001b[34m[141]#011train-rmse:0.251124#011validation-rmse:0.316976\u001b[0m\n",
      "\u001b[34m[142]#011train-rmse:0.250801#011validation-rmse:0.316941\u001b[0m\n",
      "\u001b[34m[143]#011train-rmse:0.250537#011validation-rmse:0.316742\u001b[0m\n",
      "\u001b[34m[144]#011train-rmse:0.250289#011validation-rmse:0.316624\u001b[0m\n",
      "\u001b[34m[145]#011train-rmse:0.250118#011validation-rmse:0.316547\u001b[0m\n",
      "\u001b[34m[146]#011train-rmse:0.249766#011validation-rmse:0.316234\u001b[0m\n",
      "\u001b[34m[147]#011train-rmse:0.249294#011validation-rmse:0.316107\u001b[0m\n",
      "\u001b[34m[148]#011train-rmse:0.249044#011validation-rmse:0.316053\u001b[0m\n",
      "\u001b[34m[149]#011train-rmse:0.248867#011validation-rmse:0.315919\u001b[0m\n",
      "\u001b[34m[150]#011train-rmse:0.248609#011validation-rmse:0.315689\u001b[0m\n",
      "\u001b[34m[151]#011train-rmse:0.24831#011validation-rmse:0.315488\u001b[0m\n",
      "\u001b[34m[152]#011train-rmse:0.24791#011validation-rmse:0.315416\u001b[0m\n",
      "\u001b[34m[153]#011train-rmse:0.247382#011validation-rmse:0.315368\u001b[0m\n",
      "\u001b[34m[154]#011train-rmse:0.246998#011validation-rmse:0.315361\u001b[0m\n",
      "\u001b[34m[155]#011train-rmse:0.246698#011validation-rmse:0.315277\u001b[0m\n",
      "\u001b[34m[156]#011train-rmse:0.246359#011validation-rmse:0.31521\u001b[0m\n",
      "\u001b[34m[157]#011train-rmse:0.246131#011validation-rmse:0.315211\u001b[0m\n",
      "\u001b[34m[158]#011train-rmse:0.245889#011validation-rmse:0.315024\u001b[0m\n",
      "\u001b[34m[159]#011train-rmse:0.245395#011validation-rmse:0.314809\u001b[0m\n",
      "\u001b[34m[160]#011train-rmse:0.245006#011validation-rmse:0.314569\u001b[0m\n",
      "\u001b[34m[161]#011train-rmse:0.244701#011validation-rmse:0.314304\u001b[0m\n",
      "\u001b[34m[162]#011train-rmse:0.244336#011validation-rmse:0.314156\u001b[0m\n",
      "\u001b[34m[163]#011train-rmse:0.243893#011validation-rmse:0.314246\u001b[0m\n",
      "\u001b[34m[164]#011train-rmse:0.243566#011validation-rmse:0.314184\u001b[0m\n",
      "\u001b[34m[165]#011train-rmse:0.243115#011validation-rmse:0.314021\u001b[0m\n",
      "\u001b[34m[166]#011train-rmse:0.242711#011validation-rmse:0.313972\u001b[0m\n",
      "\u001b[34m[167]#011train-rmse:0.242165#011validation-rmse:0.313708\u001b[0m\n",
      "\u001b[34m[168]#011train-rmse:0.241903#011validation-rmse:0.313474\u001b[0m\n",
      "\u001b[34m[169]#011train-rmse:0.241532#011validation-rmse:0.313418\u001b[0m\n",
      "\u001b[34m[170]#011train-rmse:0.241261#011validation-rmse:0.31328\u001b[0m\n",
      "\u001b[34m[171]#011train-rmse:0.241066#011validation-rmse:0.313207\u001b[0m\n",
      "\u001b[34m[172]#011train-rmse:0.240808#011validation-rmse:0.313154\u001b[0m\n",
      "\u001b[34m[173]#011train-rmse:0.240472#011validation-rmse:0.313128\u001b[0m\n",
      "\u001b[34m[174]#011train-rmse:0.240249#011validation-rmse:0.313055\u001b[0m\n",
      "\u001b[34m[175]#011train-rmse:0.239833#011validation-rmse:0.312944\u001b[0m\n",
      "\u001b[34m[176]#011train-rmse:0.23946#011validation-rmse:0.31285\u001b[0m\n",
      "\u001b[34m[177]#011train-rmse:0.239225#011validation-rmse:0.312755\u001b[0m\n",
      "\u001b[34m[178]#011train-rmse:0.238861#011validation-rmse:0.312839\u001b[0m\n",
      "\u001b[34m[179]#011train-rmse:0.238588#011validation-rmse:0.312665\u001b[0m\n",
      "\u001b[34m[180]#011train-rmse:0.238156#011validation-rmse:0.312628\u001b[0m\n",
      "\u001b[34m[181]#011train-rmse:0.237897#011validation-rmse:0.312462\u001b[0m\n",
      "\u001b[34m[182]#011train-rmse:0.237449#011validation-rmse:0.312442\u001b[0m\n",
      "\u001b[34m[183]#011train-rmse:0.236986#011validation-rmse:0.312468\u001b[0m\n",
      "\u001b[34m[184]#011train-rmse:0.236786#011validation-rmse:0.312294\u001b[0m\n",
      "\u001b[34m[185]#011train-rmse:0.236545#011validation-rmse:0.312224\u001b[0m\n",
      "\u001b[34m[186]#011train-rmse:0.236096#011validation-rmse:0.312064\u001b[0m\n",
      "\u001b[34m[187]#011train-rmse:0.23571#011validation-rmse:0.31195\u001b[0m\n",
      "\u001b[34m[188]#011train-rmse:0.235181#011validation-rmse:0.311856\u001b[0m\n",
      "\u001b[34m[189]#011train-rmse:0.234947#011validation-rmse:0.31176\u001b[0m\n",
      "\u001b[34m[190]#011train-rmse:0.234643#011validation-rmse:0.31166\u001b[0m\n",
      "\u001b[34m[191]#011train-rmse:0.2344#011validation-rmse:0.31153\u001b[0m\n",
      "\u001b[34m[192]#011train-rmse:0.23414#011validation-rmse:0.311545\u001b[0m\n",
      "\u001b[34m[193]#011train-rmse:0.233704#011validation-rmse:0.311528\u001b[0m\n",
      "\u001b[34m[194]#011train-rmse:0.233436#011validation-rmse:0.311367\u001b[0m\n",
      "\u001b[34m[195]#011train-rmse:0.233305#011validation-rmse:0.311315\u001b[0m\n",
      "\u001b[34m[196]#011train-rmse:0.233073#011validation-rmse:0.311218\u001b[0m\n",
      "\u001b[34m[197]#011train-rmse:0.2328#011validation-rmse:0.311143\u001b[0m\n",
      "\u001b[34m[198]#011train-rmse:0.232439#011validation-rmse:0.310993\u001b[0m\n",
      "\u001b[34m[199]#011train-rmse:0.232119#011validation-rmse:0.310896\u001b[0m\n",
      "\u001b[34m[200]#011train-rmse:0.23193#011validation-rmse:0.310827\u001b[0m\n",
      "\u001b[34m[201]#011train-rmse:0.231774#011validation-rmse:0.310708\u001b[0m\n",
      "\u001b[34m[202]#011train-rmse:0.231578#011validation-rmse:0.310748\u001b[0m\n",
      "\u001b[34m[203]#011train-rmse:0.231296#011validation-rmse:0.310697\u001b[0m\n",
      "\u001b[34m[204]#011train-rmse:0.231083#011validation-rmse:0.310688\u001b[0m\n",
      "\u001b[34m[205]#011train-rmse:0.230814#011validation-rmse:0.310599\u001b[0m\n",
      "\u001b[34m[206]#011train-rmse:0.23059#011validation-rmse:0.310535\u001b[0m\n",
      "\u001b[34m[207]#011train-rmse:0.230396#011validation-rmse:0.310464\u001b[0m\n",
      "\u001b[34m[208]#011train-rmse:0.23012#011validation-rmse:0.310443\u001b[0m\n",
      "\u001b[34m[209]#011train-rmse:0.229853#011validation-rmse:0.310365\u001b[0m\n",
      "\u001b[34m[210]#011train-rmse:0.229617#011validation-rmse:0.31034\u001b[0m\n",
      "\u001b[34m[211]#011train-rmse:0.229375#011validation-rmse:0.310233\u001b[0m\n",
      "\u001b[34m[212]#011train-rmse:0.229177#011validation-rmse:0.310176\u001b[0m\n",
      "\u001b[34m[213]#011train-rmse:0.229009#011validation-rmse:0.310057\u001b[0m\n",
      "\u001b[34m[214]#011train-rmse:0.228838#011validation-rmse:0.310003\u001b[0m\n",
      "\u001b[34m[215]#011train-rmse:0.228446#011validation-rmse:0.310041\u001b[0m\n",
      "\u001b[34m[216]#011train-rmse:0.228096#011validation-rmse:0.310142\u001b[0m\n",
      "\u001b[34m[217]#011train-rmse:0.227827#011validation-rmse:0.310031\u001b[0m\n",
      "\u001b[34m[218]#011train-rmse:0.227655#011validation-rmse:0.310025\u001b[0m\n",
      "\u001b[34m[219]#011train-rmse:0.227445#011validation-rmse:0.309877\u001b[0m\n",
      "\u001b[34m[220]#011train-rmse:0.227211#011validation-rmse:0.309885\u001b[0m\n",
      "\u001b[34m[221]#011train-rmse:0.226988#011validation-rmse:0.309808\u001b[0m\n",
      "\u001b[34m[222]#011train-rmse:0.226827#011validation-rmse:0.309669\u001b[0m\n",
      "\u001b[34m[223]#011train-rmse:0.226644#011validation-rmse:0.309531\u001b[0m\n",
      "\u001b[34m[224]#011train-rmse:0.226446#011validation-rmse:0.30943\u001b[0m\n",
      "\u001b[34m[225]#011train-rmse:0.226336#011validation-rmse:0.30927\u001b[0m\n",
      "\u001b[34m[226]#011train-rmse:0.226061#011validation-rmse:0.309074\u001b[0m\n",
      "\u001b[34m[227]#011train-rmse:0.225883#011validation-rmse:0.308991\u001b[0m\n",
      "\u001b[34m[228]#011train-rmse:0.225618#011validation-rmse:0.309046\u001b[0m\n",
      "\u001b[34m[229]#011train-rmse:0.225383#011validation-rmse:0.308937\u001b[0m\n",
      "\u001b[34m[230]#011train-rmse:0.225142#011validation-rmse:0.308768\u001b[0m\n",
      "\u001b[34m[231]#011train-rmse:0.224824#011validation-rmse:0.30861\u001b[0m\n",
      "\u001b[34m[232]#011train-rmse:0.224634#011validation-rmse:0.308588\u001b[0m\n",
      "\u001b[34m[233]#011train-rmse:0.224507#011validation-rmse:0.308692\u001b[0m\n",
      "\u001b[34m[234]#011train-rmse:0.224233#011validation-rmse:0.30874\u001b[0m\n",
      "\u001b[34m[235]#011train-rmse:0.224079#011validation-rmse:0.308572\u001b[0m\n",
      "\u001b[34m[236]#011train-rmse:0.22376#011validation-rmse:0.308589\u001b[0m\n",
      "\u001b[34m[237]#011train-rmse:0.223493#011validation-rmse:0.308443\u001b[0m\n",
      "\u001b[34m[238]#011train-rmse:0.223393#011validation-rmse:0.308464\u001b[0m\n",
      "\u001b[34m[239]#011train-rmse:0.223166#011validation-rmse:0.308377\u001b[0m\n",
      "\u001b[34m[240]#011train-rmse:0.222966#011validation-rmse:0.308302\u001b[0m\n",
      "\u001b[34m[241]#011train-rmse:0.222816#011validation-rmse:0.308311\u001b[0m\n",
      "\u001b[34m[242]#011train-rmse:0.222434#011validation-rmse:0.30829\u001b[0m\n",
      "\u001b[34m[243]#011train-rmse:0.222253#011validation-rmse:0.308332\u001b[0m\n",
      "\u001b[34m[244]#011train-rmse:0.222123#011validation-rmse:0.308295\u001b[0m\n",
      "\u001b[34m[245]#011train-rmse:0.221709#011validation-rmse:0.308363\u001b[0m\n",
      "\u001b[34m[246]#011train-rmse:0.221548#011validation-rmse:0.308375\u001b[0m\n",
      "\u001b[34m[247]#011train-rmse:0.221212#011validation-rmse:0.308302\u001b[0m\n",
      "\u001b[34m[248]#011train-rmse:0.220958#011validation-rmse:0.308309\u001b[0m\n",
      "\u001b[34m[249]#011train-rmse:0.220777#011validation-rmse:0.308338\u001b[0m\n",
      "\u001b[34m[250]#011train-rmse:0.220458#011validation-rmse:0.308345\u001b[0m\n",
      "\u001b[34m[251]#011train-rmse:0.220103#011validation-rmse:0.308298\u001b[0m\n",
      "\u001b[34m[252]#011train-rmse:0.220031#011validation-rmse:0.308287\u001b[0m\n",
      "\u001b[34m[253]#011train-rmse:0.219825#011validation-rmse:0.308351\u001b[0m\n",
      "\u001b[34m[254]#011train-rmse:0.219603#011validation-rmse:0.308384\u001b[0m\n",
      "\u001b[34m[255]#011train-rmse:0.219421#011validation-rmse:0.308417\u001b[0m\n",
      "\u001b[34m[256]#011train-rmse:0.219397#011validation-rmse:0.308335\u001b[0m\n",
      "\u001b[34m[257]#011train-rmse:0.219166#011validation-rmse:0.308251\u001b[0m\n",
      "\u001b[34m[258]#011train-rmse:0.219019#011validation-rmse:0.308252\u001b[0m\n",
      "\u001b[34m[259]#011train-rmse:0.218791#011validation-rmse:0.308267\u001b[0m\n",
      "\u001b[34m[260]#011train-rmse:0.21863#011validation-rmse:0.30827\u001b[0m\n",
      "\u001b[34m[261]#011train-rmse:0.21838#011validation-rmse:0.308158\u001b[0m\n",
      "\u001b[34m[262]#011train-rmse:0.218227#011validation-rmse:0.307976\u001b[0m\n",
      "\u001b[34m[263]#011train-rmse:0.218087#011validation-rmse:0.307952\u001b[0m\n",
      "\u001b[34m[264]#011train-rmse:0.21797#011validation-rmse:0.307969\u001b[0m\n",
      "\u001b[34m[265]#011train-rmse:0.217708#011validation-rmse:0.307948\u001b[0m\n",
      "\u001b[34m[266]#011train-rmse:0.21752#011validation-rmse:0.307797\u001b[0m\n",
      "\u001b[34m[267]#011train-rmse:0.217294#011validation-rmse:0.307799\u001b[0m\n",
      "\u001b[34m[268]#011train-rmse:0.217095#011validation-rmse:0.307761\u001b[0m\n",
      "\u001b[34m[269]#011train-rmse:0.216966#011validation-rmse:0.307628\u001b[0m\n",
      "\u001b[34m[270]#011train-rmse:0.216888#011validation-rmse:0.307582\u001b[0m\n",
      "\u001b[34m[271]#011train-rmse:0.216832#011validation-rmse:0.307543\u001b[0m\n",
      "\u001b[34m[272]#011train-rmse:0.216664#011validation-rmse:0.307336\u001b[0m\n",
      "\u001b[34m[273]#011train-rmse:0.216531#011validation-rmse:0.307304\u001b[0m\n",
      "\u001b[34m[274]#011train-rmse:0.216361#011validation-rmse:0.307265\u001b[0m\n",
      "\u001b[34m[275]#011train-rmse:0.21624#011validation-rmse:0.307367\u001b[0m\n",
      "\u001b[34m[276]#011train-rmse:0.216134#011validation-rmse:0.307385\u001b[0m\n",
      "\u001b[34m[277]#011train-rmse:0.215977#011validation-rmse:0.307257\u001b[0m\n",
      "\u001b[34m[278]#011train-rmse:0.215584#011validation-rmse:0.307224\u001b[0m\n",
      "\u001b[34m[279]#011train-rmse:0.215538#011validation-rmse:0.307108\u001b[0m\n",
      "\u001b[34m[280]#011train-rmse:0.215426#011validation-rmse:0.307102\u001b[0m\n",
      "\u001b[34m[281]#011train-rmse:0.215301#011validation-rmse:0.30702\u001b[0m\n",
      "\u001b[34m[282]#011train-rmse:0.215152#011validation-rmse:0.307052\u001b[0m\n",
      "\u001b[34m[283]#011train-rmse:0.215039#011validation-rmse:0.307049\u001b[0m\n",
      "\u001b[34m[284]#011train-rmse:0.214945#011validation-rmse:0.30692\u001b[0m\n",
      "\u001b[34m[285]#011train-rmse:0.214765#011validation-rmse:0.306919\u001b[0m\n",
      "\u001b[34m[286]#011train-rmse:0.214752#011validation-rmse:0.306911\u001b[0m\n",
      "\u001b[34m[287]#011train-rmse:0.214602#011validation-rmse:0.30691\u001b[0m\n",
      "\u001b[34m[288]#011train-rmse:0.214333#011validation-rmse:0.306838\u001b[0m\n",
      "\u001b[34m[289]#011train-rmse:0.214109#011validation-rmse:0.306879\u001b[0m\n",
      "\u001b[34m[290]#011train-rmse:0.213788#011validation-rmse:0.306908\u001b[0m\n",
      "\u001b[34m[291]#011train-rmse:0.213575#011validation-rmse:0.306809\u001b[0m\n",
      "\u001b[34m[292]#011train-rmse:0.213525#011validation-rmse:0.306848\u001b[0m\n",
      "\u001b[34m[293]#011train-rmse:0.21351#011validation-rmse:0.306863\u001b[0m\n",
      "\u001b[34m[294]#011train-rmse:0.213346#011validation-rmse:0.306867\u001b[0m\n",
      "\u001b[34m[295]#011train-rmse:0.213054#011validation-rmse:0.306869\u001b[0m\n",
      "\u001b[34m[296]#011train-rmse:0.212931#011validation-rmse:0.306882\u001b[0m\n",
      "\u001b[34m[297]#011train-rmse:0.212805#011validation-rmse:0.306818\u001b[0m\n",
      "\u001b[34m[298]#011train-rmse:0.212601#011validation-rmse:0.306892\u001b[0m\n",
      "\u001b[34m[299]#011train-rmse:0.212425#011validation-rmse:0.306966\u001b[0m\n",
      "\u001b[34m[300]#011train-rmse:0.212393#011validation-rmse:0.306977\u001b[0m\n",
      "\u001b[34m[301]#011train-rmse:0.212313#011validation-rmse:0.306929\u001b[0m\n",
      "Training seconds: 525\n",
      "Billable seconds: 525\n",
      "CPU times: user 130 ms, sys: 4.79 ms, total: 135 ms\n",
      "Wall time: 429 ms\n"
     ]
    }
   ],
   "source": [
    "%%time\n",
    "# TODO: Create a new estimator object attached to the best training job found during hyperparameter tuning\n",
    "\n",
    "xgb_attached = sagemaker.estimator.Estimator.attach(xgb_hyperparameter_tuner.best_training_job())"
   ]
  },
  {
   "cell_type": "markdown",
   "metadata": {},
   "source": [
    "Now that we have an estimator object attached to the correct training job, we can proceed as we normally would and create a transformer object."
   ]
  },
  {
   "cell_type": "code",
   "execution_count": 26,
   "metadata": {},
   "outputs": [
    {
     "name": "stdout",
     "output_type": "stream",
     "text": [
      "CPU times: user 20.8 ms, sys: 29 µs, total: 20.8 ms\n",
      "Wall time: 361 ms\n"
     ]
    }
   ],
   "source": [
    "%%time\n",
    "# TODO: Create a transformer object from the attached estimator. Using an instance count of 1 and an instance type of ml.m4.xlarge\n",
    "#       should be more than enough.\n",
    "\n",
    "xgb_transformer = xgb_attached.transformer(instance_count = 1, instance_type = 'ml.m4.xlarge')\n"
   ]
  },
  {
   "cell_type": "markdown",
   "metadata": {},
   "source": [
    "Next we actually perform the transform job. When doing so we need to make sure to specify the type of data we are sending so that it is serialized correctly in the background. In our case we are providing our model with csv data so we specify `text/csv`. Also, if the test data that we have provided is too large to process all at once then we need to specify how the data file should be split up. Since each line is a single entry in our data set we tell SageMaker that it can split the input on each line."
   ]
  },
  {
   "cell_type": "code",
   "execution_count": 27,
   "metadata": {},
   "outputs": [
    {
     "name": "stdout",
     "output_type": "stream",
     "text": [
      "CPU times: user 58.2 ms, sys: 7.83 ms, total: 66 ms\n",
      "Wall time: 713 ms\n"
     ]
    }
   ],
   "source": [
    "%%time\n",
    "# TODO: Start the transform job. Make sure to specify the content type and the split type of the test data.\n",
    "xgb_transformer.transform(test_location, content_type='text/csv', split_type='Line')"
   ]
  },
  {
   "cell_type": "markdown",
   "metadata": {},
   "source": [
    "Currently the transform job is running but it is doing so in the background. Since we wish to wait until the transform job is done and we would like a bit of feedback we can run the `wait()` method."
   ]
  },
  {
   "cell_type": "code",
   "execution_count": 29,
   "metadata": {},
   "outputs": [],
   "source": [
    "xgb_transformer.wait()"
   ]
  },
  {
   "cell_type": "markdown",
   "metadata": {},
   "source": [
    "Now the transform job has executed and the result, the estimated sentiment of each review, has been saved on S3. Since we would rather work on this file locally we can perform a bit of notebook magic to copy the file to the `data_dir`."
   ]
  },
  {
   "cell_type": "code",
   "execution_count": null,
   "metadata": {},
   "outputs": [],
   "source": [
    "!aws s3 cp --recursive $xgb_transformer.output_path $data_dir"
   ]
  },
  {
   "cell_type": "markdown",
   "metadata": {},
   "source": [
    "The last step is now to read in the output from our model, convert the output to something a little more usable, in this case we want the sentiment to be either `1` (positive) or `0` (negative), and then compare to the ground truth labels."
   ]
  },
  {
   "cell_type": "code",
   "execution_count": null,
   "metadata": {},
   "outputs": [],
   "source": [
    "predictions = pd.read_csv(os.path.join(data_dir, 'test.csv.out'), header=None)\n",
    "predictions = [round(num) for num in predictions.squeeze().values]"
   ]
  },
  {
   "cell_type": "code",
   "execution_count": null,
   "metadata": {},
   "outputs": [],
   "source": [
    "from sklearn.metrics import accuracy_score\n",
    "accuracy_score(test_y, predictions)"
   ]
  },
  {
   "cell_type": "code",
   "execution_count": null,
   "metadata": {},
   "outputs": [],
   "source": [
    "from sklearn.metrics import roc_curve, auc\n",
    "from sklearn.metrics import roc_auc_score\n",
    "import matplotlib.pyplot as plt\n",
    "\n",
    "auc = roc_auc_score(test_y, predictions)\n",
    "print('auc: ', auc)\n",
    "print('')\n",
    "\n",
    "# Compute ROC curve and ROC area for each class\n",
    "fpr, tpr, _ = roc_curve(test_y, predictions)\n",
    "print('fpr: ', fpr)\n",
    "print('tpr: ', tpr)\n",
    "print('')\n",
    "\n",
    "plt.figure()\n",
    "lw = 2\n",
    "plt.plot(fpr, tpr, color='darkorange',\n",
    "         lw=lw, label='ROC curve (area = %0.3f)' % auc)\n",
    "plt.plot([0, 1], [0, 1], color='navy', lw=lw, linestyle='--')\n",
    "plt.xlim([0.0, 1.0])\n",
    "plt.ylim([0.0, 1.05])\n",
    "plt.xlabel('False Positive Rate')\n",
    "plt.ylabel('True Positive Rate')\n",
    "plt.title('Receiver operating characteristic example')\n",
    "plt.legend(loc=\"lower right\")\n",
    "plt.show()"
   ]
  },
  {
   "cell_type": "markdown",
   "metadata": {},
   "source": [
    "## Optional: Clean up\n",
    "\n",
    "The default notebook instance on SageMaker doesn't have a lot of excess disk space available. As you continue to complete and execute notebooks you will eventually fill up this disk space, leading to errors which can be difficult to diagnose. Once you are completely finished using a notebook it is a good idea to remove the files that you created along the way. Of course, you can do this from the terminal or from the notebook hub if you would like. The cell below contains some commands to clean up the created files from within the notebook."
   ]
  },
  {
   "cell_type": "code",
   "execution_count": null,
   "metadata": {},
   "outputs": [],
   "source": [
    "# First we will remove all of the files contained in the data_dir directory\n",
    "!rm $data_dir/*\n",
    "\n",
    "# And then we delete the directory itself\n",
    "!rmdir $data_dir\n",
    "\n",
    "# Similarly we will remove the files in the cache_dir directory and the directory itself\n",
    "!rm $cache_dir/*\n",
    "!rmdir $cache_dir"
   ]
  },
  {
   "cell_type": "code",
   "execution_count": null,
   "metadata": {},
   "outputs": [],
   "source": []
  }
 ],
 "metadata": {
  "kernelspec": {
   "display_name": "conda_python3",
   "language": "python",
   "name": "conda_python3"
  },
  "language_info": {
   "codemirror_mode": {
    "name": "ipython",
    "version": 3
   },
   "file_extension": ".py",
   "mimetype": "text/x-python",
   "name": "python",
   "nbconvert_exporter": "python",
   "pygments_lexer": "ipython3",
   "version": "3.6.5"
  }
 },
 "nbformat": 4,
 "nbformat_minor": 2
}
