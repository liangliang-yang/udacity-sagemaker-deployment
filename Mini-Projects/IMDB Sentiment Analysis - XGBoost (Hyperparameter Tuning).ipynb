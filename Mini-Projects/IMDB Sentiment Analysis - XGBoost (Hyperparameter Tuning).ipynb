{
 "cells": [
  {
   "cell_type": "markdown",
   "metadata": {},
   "source": [
    "# Sentiment Analysis\n",
    "\n",
    "## Using XGBoost in SageMaker\n",
    "\n",
    "_Deep Learning Nanodegree Program | Deployment_\n",
    "\n",
    "---\n",
    "\n",
    "In this example of using Amazon's SageMaker service we will construct a random tree model to predict the sentiment of a movie review. You may have seen a version of this example in a pervious lesson although it would have been done using the sklearn package. Instead, we will be using the XGBoost package as it is provided to us by Amazon.\n",
    "\n",
    "## Instructions\n",
    "\n",
    "Some template code has already been provided for you, and you will need to implement additional functionality to successfully complete this notebook. You will not need to modify the included code beyond what is requested. Sections that begin with '**TODO**' in the header indicate that you need to complete or implement some portion within them. Instructions will be provided for each section and the specifics of the implementation are marked in the code block with a `# TODO: ...` comment. Please be sure to read the instructions carefully!\n",
    "\n",
    "In addition to implementing code, there will be questions for you to answer which relate to the task and your implementation. Each section where you will answer a question is preceded by a '**Question:**' header. Carefully read each question and provide your answer below the '**Answer:**' header by editing the Markdown cell.\n",
    "\n",
    "> **Note**: Code and Markdown cells can be executed using the **Shift+Enter** keyboard shortcut. In addition, a cell can be edited by typically clicking it (double-click for Markdown cells) or by pressing **Enter** while it is highlighted."
   ]
  },
  {
   "cell_type": "markdown",
   "metadata": {},
   "source": [
    "## Step 1: Downloading the data\n",
    "\n",
    "The dataset we are going to use is very popular among researchers in Natural Language Processing, usually referred to as the [IMDb dataset](http://ai.stanford.edu/~amaas/data/sentiment/). It consists of movie reviews from the website [imdb.com](http://www.imdb.com/), each labeled as either '**pos**itive', if the reviewer enjoyed the film, or '**neg**ative' otherwise.\n",
    "\n",
    "> Maas, Andrew L., et al. [Learning Word Vectors for Sentiment Analysis](http://ai.stanford.edu/~amaas/data/sentiment/). In _Proceedings of the 49th Annual Meeting of the Association for Computational Linguistics: Human Language Technologies_. Association for Computational Linguistics, 2011.\n",
    "\n",
    "We begin by using some Jupyter Notebook magic to download and extract the dataset."
   ]
  },
  {
   "cell_type": "code",
   "execution_count": 1,
   "metadata": {},
   "outputs": [
    {
     "name": "stdout",
     "output_type": "stream",
     "text": [
      "mkdir: cannot create directory ‘../data’: File exists\n",
      "--2020-04-20 01:45:59--  http://ai.stanford.edu/~amaas/data/sentiment/aclImdb_v1.tar.gz\n",
      "Resolving ai.stanford.edu (ai.stanford.edu)... 171.64.68.10\n",
      "Connecting to ai.stanford.edu (ai.stanford.edu)|171.64.68.10|:80... connected.\n",
      "HTTP request sent, awaiting response... 200 OK\n",
      "Length: 84125825 (80M) [application/x-gzip]\n",
      "Saving to: ‘../data/aclImdb_v1.tar.gz’\n",
      "\n",
      "../data/aclImdb_v1. 100%[===================>]  80.23M  22.8MB/s    in 4.2s    \n",
      "\n",
      "2020-04-20 01:46:03 (19.1 MB/s) - ‘../data/aclImdb_v1.tar.gz’ saved [84125825/84125825]\n",
      "\n"
     ]
    }
   ],
   "source": [
    "%mkdir ../data\n",
    "!wget -O ../data/aclImdb_v1.tar.gz http://ai.stanford.edu/~amaas/data/sentiment/aclImdb_v1.tar.gz\n",
    "!tar -zxf ../data/aclImdb_v1.tar.gz -C ../data"
   ]
  },
  {
   "cell_type": "markdown",
   "metadata": {},
   "source": [
    "## Step 2: Preparing the data\n",
    "\n",
    "The data we have downloaded is split into various files, each of which contains a single review. It will be much easier going forward if we combine these individual files into two large files, one for training and one for testing."
   ]
  },
  {
   "cell_type": "code",
   "execution_count": 2,
   "metadata": {},
   "outputs": [],
   "source": [
    "import os\n",
    "import glob\n",
    "\n",
    "def read_imdb_data(data_dir='../data/aclImdb'):\n",
    "    data = {}\n",
    "    labels = {}\n",
    "    \n",
    "    for data_type in ['train', 'test']:\n",
    "        data[data_type] = {}\n",
    "        labels[data_type] = {}\n",
    "        \n",
    "        for sentiment in ['pos', 'neg']:\n",
    "            data[data_type][sentiment] = []\n",
    "            labels[data_type][sentiment] = []\n",
    "            \n",
    "            path = os.path.join(data_dir, data_type, sentiment, '*.txt')\n",
    "            files = glob.glob(path)\n",
    "            \n",
    "            for f in files:\n",
    "                with open(f) as review:\n",
    "                    data[data_type][sentiment].append(review.read())\n",
    "                    # Here we represent a positive review by '1' and a negative review by '0'\n",
    "                    labels[data_type][sentiment].append(1 if sentiment == 'pos' else 0)\n",
    "                    \n",
    "            assert len(data[data_type][sentiment]) == len(labels[data_type][sentiment]), \\\n",
    "                    \"{}/{} data size does not match labels size\".format(data_type, sentiment)\n",
    "                \n",
    "    return data, labels"
   ]
  },
  {
   "cell_type": "code",
   "execution_count": 3,
   "metadata": {},
   "outputs": [
    {
     "name": "stdout",
     "output_type": "stream",
     "text": [
      "IMDB reviews: train = 12500 pos / 12500 neg, test = 12500 pos / 12500 neg\n"
     ]
    }
   ],
   "source": [
    "data, labels = read_imdb_data()\n",
    "print(\"IMDB reviews: train = {} pos / {} neg, test = {} pos / {} neg\".format(\n",
    "            len(data['train']['pos']), len(data['train']['neg']),\n",
    "            len(data['test']['pos']), len(data['test']['neg'])))"
   ]
  },
  {
   "cell_type": "code",
   "execution_count": 4,
   "metadata": {},
   "outputs": [],
   "source": [
    "from sklearn.utils import shuffle\n",
    "\n",
    "def prepare_imdb_data(data, labels):\n",
    "    \"\"\"Prepare training and test sets from IMDb movie reviews.\"\"\"\n",
    "    \n",
    "    #Combine positive and negative reviews and labels\n",
    "    data_train = data['train']['pos'] + data['train']['neg']\n",
    "    data_test = data['test']['pos'] + data['test']['neg']\n",
    "    labels_train = labels['train']['pos'] + labels['train']['neg']\n",
    "    labels_test = labels['test']['pos'] + labels['test']['neg']\n",
    "    \n",
    "    #Shuffle reviews and corresponding labels within training and test sets\n",
    "    data_train, labels_train = shuffle(data_train, labels_train)\n",
    "    data_test, labels_test = shuffle(data_test, labels_test)\n",
    "    \n",
    "    # Return a unified training data, test data, training labels, test labets\n",
    "    return data_train, data_test, labels_train, labels_test"
   ]
  },
  {
   "cell_type": "code",
   "execution_count": 5,
   "metadata": {},
   "outputs": [
    {
     "name": "stdout",
     "output_type": "stream",
     "text": [
      "IMDb reviews (combined): train = 25000, test = 25000\n"
     ]
    }
   ],
   "source": [
    "train_X, test_X, train_y, test_y = prepare_imdb_data(data, labels)\n",
    "print(\"IMDb reviews (combined): train = {}, test = {}\".format(len(train_X), len(test_X)))"
   ]
  },
  {
   "cell_type": "code",
   "execution_count": 6,
   "metadata": {},
   "outputs": [
    {
     "data": {
      "text/plain": [
       "'Final Justice has the great Joe Don Baker running around Texas, shooting people who shoot people. Then he\\'s off to Malta where he shoots more people. He gets locked up many times for shooting people. Then he gets into a gunfight with the bad guy, who is dressed like a monk. There is a boat chase, and Joe Don winds up in jail again. Finally Joe Don, with the help from Elaine from \"Seinfeld\" kill the bad guy, blow up a boat or two and someone gets shot with a flare. All this and a catchy theme song, just like Mitchell!'"
      ]
     },
     "execution_count": 6,
     "metadata": {},
     "output_type": "execute_result"
    }
   ],
   "source": [
    "train_X[100]"
   ]
  },
  {
   "cell_type": "markdown",
   "metadata": {},
   "source": [
    "## Step 3: Processing the data\n",
    "\n",
    "Now that we have our training and testing datasets merged and ready to use, we need to start processing the raw data into something that will be useable by our machine learning algorithm. To begin with, we remove any html formatting that may appear in the reviews and perform some standard natural language processing in order to homogenize the data."
   ]
  },
  {
   "cell_type": "code",
   "execution_count": 7,
   "metadata": {},
   "outputs": [
    {
     "name": "stdout",
     "output_type": "stream",
     "text": [
      "[nltk_data] Downloading package stopwords to\n",
      "[nltk_data]     /home/ec2-user/nltk_data...\n",
      "[nltk_data]   Package stopwords is already up-to-date!\n"
     ]
    }
   ],
   "source": [
    "import nltk\n",
    "nltk.download(\"stopwords\")\n",
    "from nltk.corpus import stopwords\n",
    "from nltk.stem.porter import *\n",
    "stemmer = PorterStemmer()"
   ]
  },
  {
   "cell_type": "code",
   "execution_count": 8,
   "metadata": {},
   "outputs": [],
   "source": [
    "import re\n",
    "from bs4 import BeautifulSoup\n",
    "\n",
    "def review_to_words(review):\n",
    "    text = BeautifulSoup(review, \"html.parser\").get_text() # Remove HTML tags\n",
    "    text = re.sub(r\"[^a-zA-Z0-9]\", \" \", text.lower()) # Convert to lower case\n",
    "    words = text.split() # Split string into words\n",
    "    words = [w for w in words if w not in stopwords.words(\"english\")] # Remove stopwords\n",
    "    words = [PorterStemmer().stem(w) for w in words] # stem\n",
    "    \n",
    "    return words"
   ]
  },
  {
   "cell_type": "code",
   "execution_count": 9,
   "metadata": {},
   "outputs": [],
   "source": [
    "import pickle\n",
    "\n",
    "cache_dir = os.path.join(\"../cache\", \"sentiment_analysis\")  # where to store cache files\n",
    "os.makedirs(cache_dir, exist_ok=True)  # ensure cache directory exists\n",
    "\n",
    "def preprocess_data(data_train, data_test, labels_train, labels_test,\n",
    "                    cache_dir=cache_dir, cache_file=\"preprocessed_data.pkl\"):\n",
    "    \"\"\"Convert each review to words; read from cache if available.\"\"\"\n",
    "\n",
    "    # If cache_file is not None, try to read from it first\n",
    "    cache_data = None\n",
    "    if cache_file is not None:\n",
    "        try:\n",
    "            with open(os.path.join(cache_dir, cache_file), \"rb\") as f:\n",
    "                cache_data = pickle.load(f)\n",
    "            print(\"Read preprocessed data from cache file:\", cache_file)\n",
    "        except:\n",
    "            pass  # unable to read from cache, but that's okay\n",
    "    \n",
    "    # If cache is missing, then do the heavy lifting\n",
    "    if cache_data is None:\n",
    "        # Preprocess training and test data to obtain words for each review\n",
    "        #words_train = list(map(review_to_words, data_train))\n",
    "        #words_test = list(map(review_to_words, data_test))\n",
    "        words_train = [review_to_words(review) for review in data_train]\n",
    "        words_test = [review_to_words(review) for review in data_test]\n",
    "        \n",
    "        # Write to cache file for future runs\n",
    "        if cache_file is not None:\n",
    "            cache_data = dict(words_train=words_train, words_test=words_test,\n",
    "                              labels_train=labels_train, labels_test=labels_test)\n",
    "            with open(os.path.join(cache_dir, cache_file), \"wb\") as f:\n",
    "                pickle.dump(cache_data, f)\n",
    "            print(\"Wrote preprocessed data to cache file:\", cache_file)\n",
    "    else:\n",
    "        # Unpack data loaded from cache file\n",
    "        words_train, words_test, labels_train, labels_test = (cache_data['words_train'],\n",
    "                cache_data['words_test'], cache_data['labels_train'], cache_data['labels_test'])\n",
    "    \n",
    "    return words_train, words_test, labels_train, labels_test"
   ]
  },
  {
   "cell_type": "code",
   "execution_count": 10,
   "metadata": {},
   "outputs": [
    {
     "name": "stdout",
     "output_type": "stream",
     "text": [
      "Read preprocessed data from cache file: preprocessed_data.pkl\n",
      "CPU times: user 856 ms, sys: 253 ms, total: 1.11 s\n",
      "Wall time: 1.07 s\n"
     ]
    }
   ],
   "source": [
    "%%time\n",
    "# Preprocess data\n",
    "train_X, test_X, train_y, test_y = preprocess_data(train_X, test_X, train_y, test_y)"
   ]
  },
  {
   "cell_type": "markdown",
   "metadata": {},
   "source": [
    "### Extract Bag-of-Words features\n",
    "\n",
    "For the model we will be implementing, rather than using the reviews directly, we are going to transform each review into a Bag-of-Words feature representation. Keep in mind that 'in the wild' we will only have access to the training set so our transformer can only use the training set to construct a representation."
   ]
  },
  {
   "cell_type": "code",
   "execution_count": 11,
   "metadata": {},
   "outputs": [],
   "source": [
    "import numpy as np\n",
    "from sklearn.feature_extraction.text import CountVectorizer\n",
    "from sklearn.externals import joblib\n",
    "# joblib is an enhanced version of pickle that is more efficient for storing NumPy arrays\n",
    "\n",
    "def extract_BoW_features(words_train, words_test, vocabulary_size=5000,\n",
    "                         cache_dir=cache_dir, cache_file=\"bow_features.pkl\"):\n",
    "    \"\"\"Extract Bag-of-Words for a given set of documents, already preprocessed into words.\"\"\"\n",
    "    \n",
    "    # If cache_file is not None, try to read from it first\n",
    "    cache_data = None\n",
    "    if cache_file is not None:\n",
    "        try:\n",
    "            with open(os.path.join(cache_dir, cache_file), \"rb\") as f:\n",
    "                cache_data = joblib.load(f)\n",
    "            print(\"Read features from cache file:\", cache_file)\n",
    "        except:\n",
    "            pass  # unable to read from cache, but that's okay\n",
    "    \n",
    "    # If cache is missing, then do the heavy lifting\n",
    "    if cache_data is None:\n",
    "        # Fit a vectorizer to training documents and use it to transform them\n",
    "        # NOTE: Training documents have already been preprocessed and tokenized into words;\n",
    "        #       pass in dummy functions to skip those steps, e.g. preprocessor=lambda x: x\n",
    "        vectorizer = CountVectorizer(max_features=vocabulary_size,\n",
    "                preprocessor=lambda x: x, tokenizer=lambda x: x)  # already preprocessed\n",
    "        features_train = vectorizer.fit_transform(words_train).toarray()\n",
    "\n",
    "        # Apply the same vectorizer to transform the test documents (ignore unknown words)\n",
    "        features_test = vectorizer.transform(words_test).toarray()\n",
    "        \n",
    "        # NOTE: Remember to convert the features using .toarray() for a compact representation\n",
    "        \n",
    "        # Write to cache file for future runs (store vocabulary as well)\n",
    "        if cache_file is not None:\n",
    "            vocabulary = vectorizer.vocabulary_\n",
    "            cache_data = dict(features_train=features_train, features_test=features_test,\n",
    "                             vocabulary=vocabulary)\n",
    "            with open(os.path.join(cache_dir, cache_file), \"wb\") as f:\n",
    "                joblib.dump(cache_data, f)\n",
    "            print(\"Wrote features to cache file:\", cache_file)\n",
    "    else:\n",
    "        # Unpack data loaded from cache file\n",
    "        features_train, features_test, vocabulary = (cache_data['features_train'],\n",
    "                cache_data['features_test'], cache_data['vocabulary'])\n",
    "    \n",
    "    # Return both the extracted features as well as the vocabulary\n",
    "    return features_train, features_test, vocabulary"
   ]
  },
  {
   "cell_type": "code",
   "execution_count": 12,
   "metadata": {},
   "outputs": [
    {
     "name": "stdout",
     "output_type": "stream",
     "text": [
      "Wrote features to cache file: bow_features.pkl\n",
      "CPU times: user 4.51 s, sys: 2.07 s, total: 6.58 s\n",
      "Wall time: 8.05 s\n"
     ]
    }
   ],
   "source": [
    "%%time\n",
    "# Extract Bag of Words features for both training and test datasets\n",
    "train_X, test_X, vocabulary = extract_BoW_features(train_X, test_X)"
   ]
  },
  {
   "cell_type": "markdown",
   "metadata": {},
   "source": [
    "## Step 4: Classification using XGBoost\n",
    "\n",
    "Now that we have created the feature representation of our training (and testing) data, it is time to start setting up and using the XGBoost classifier provided by SageMaker.\n",
    "\n",
    "### Writing the dataset\n",
    "\n",
    "The XGBoost classifier that we will be using requires the dataset to be written to a file and stored using Amazon S3. To do this, we will start by splitting the training dataset into two parts, the data we will train the model with and a validation set. Then, we will write those datasets to a file and upload the files to S3. In addition, we will write the test set input to a file and upload the file to S3. This is so that we can use SageMakers Batch Transform functionality to test our model once we've fit it."
   ]
  },
  {
   "cell_type": "code",
   "execution_count": 13,
   "metadata": {},
   "outputs": [],
   "source": [
    "import pandas as pd\n",
    "\n",
    "val_X = pd.DataFrame(train_X[:10000])\n",
    "train_X = pd.DataFrame(train_X[10000:])\n",
    "\n",
    "val_y = pd.DataFrame(train_y[:10000])\n",
    "train_y = pd.DataFrame(train_y[10000:])\n",
    "\n",
    "test_y = pd.DataFrame(test_y)\n",
    "test_X = pd.DataFrame(test_X)"
   ]
  },
  {
   "cell_type": "markdown",
   "metadata": {},
   "source": [
    "The documentation for the XGBoost algorithm in SageMaker requires that the saved datasets should contain no headers or index and that for the training and validation data, the label should occur first for each sample.\n",
    "\n",
    "For more information about this and other algorithms, the SageMaker developer documentation can be found on __[Amazon's website.](https://docs.aws.amazon.com/sagemaker/latest/dg/)__"
   ]
  },
  {
   "cell_type": "code",
   "execution_count": 14,
   "metadata": {},
   "outputs": [],
   "source": [
    "# First we make sure that the local directory in which we'd like to store the training and validation csv files exists.\n",
    "data_dir = '../data/xgboost'\n",
    "if not os.path.exists(data_dir):\n",
    "    os.makedirs(data_dir)"
   ]
  },
  {
   "cell_type": "code",
   "execution_count": 15,
   "metadata": {},
   "outputs": [
    {
     "name": "stdout",
     "output_type": "stream",
     "text": [
      "CPU times: user 4min 26s, sys: 7.34 s, total: 4min 34s\n",
      "Wall time: 4min 35s\n"
     ]
    }
   ],
   "source": [
    "%%time\n",
    "# First, save the test data to test.csv in the data_dir directory. Note that we do not save the associated ground truth\n",
    "# labels, instead we will use them later to compare with our model output.\n",
    "\n",
    "pd.concat([test_y, test_X], axis=1).to_csv(os.path.join(data_dir, 'test.csv'), header=False, index=False)\n",
    "pd.concat([val_y, val_X], axis=1).to_csv(os.path.join(data_dir, 'validation.csv'), header=False, index=False)\n",
    "pd.concat([train_y, train_X], axis=1).to_csv(os.path.join(data_dir, 'train.csv'), header=False, index=False)"
   ]
  },
  {
   "cell_type": "code",
   "execution_count": 16,
   "metadata": {},
   "outputs": [],
   "source": [
    "# To save a bit of memory we can set text_X, train_X, val_X, train_y and val_y to None.\n",
    "\n",
    "train_X = val_X = train_y = val_y = None"
   ]
  },
  {
   "cell_type": "markdown",
   "metadata": {},
   "source": [
    "### Uploading Training / Validation files to S3\n",
    "\n",
    "Amazon's S3 service allows us to store files that can be access by both the built-in training models such as the XGBoost model we will be using as well as custom models such as the one we will see a little later.\n",
    "\n",
    "For this, and most other tasks we will be doing using SageMaker, there are two methods we could use. The first is to use the low level functionality of SageMaker which requires knowing each of the objects involved in the SageMaker environment. The second is to use the high level functionality in which certain choices have been made on the user's behalf. The low level approach benefits from allowing the user a great deal of flexibility while the high level approach makes development much quicker. For our purposes we will opt to use the high level approach although using the low-level approach is certainly an option.\n",
    "\n",
    "Recall the method `upload_data()` which is a member of object representing our current SageMaker session. What this method does is upload the data to the default bucket (which is created if it does not exist) into the path described by the key_prefix variable. To see this for yourself, once you have uploaded the data files, go to the S3 console and look to see where the files have been uploaded.\n",
    "\n",
    "For additional resources, see the __[SageMaker API documentation](http://sagemaker.readthedocs.io/en/latest/)__ and in addition the __[SageMaker Developer Guide.](https://docs.aws.amazon.com/sagemaker/latest/dg/)__"
   ]
  },
  {
   "cell_type": "code",
   "execution_count": 17,
   "metadata": {},
   "outputs": [
    {
     "name": "stdout",
     "output_type": "stream",
     "text": [
      "CPU times: user 5.76 s, sys: 872 ms, total: 6.63 s\n",
      "Wall time: 9.16 s\n"
     ]
    }
   ],
   "source": [
    "%%time\n",
    "import sagemaker\n",
    "\n",
    "session = sagemaker.Session() # Store the current SageMaker session\n",
    "\n",
    "# S3 prefix (which folder will we use)\n",
    "prefix = 'sentiment-xgboost'\n",
    "\n",
    "test_location = session.upload_data(os.path.join(data_dir, 'test.csv'), key_prefix=prefix)\n",
    "val_location = session.upload_data(os.path.join(data_dir, 'validation.csv'), key_prefix=prefix)\n",
    "train_location = session.upload_data(os.path.join(data_dir, 'train.csv'), key_prefix=prefix)"
   ]
  },
  {
   "cell_type": "markdown",
   "metadata": {},
   "source": [
    "### (TODO) Creating a hypertuned XGBoost model\n",
    "\n",
    "Now that the data has been uploaded it is time to create the XGBoost model. As in the Boston Housing notebook, the first step is to create an estimator object which will be used as the *base* of your hyperparameter tuning job."
   ]
  },
  {
   "cell_type": "code",
   "execution_count": 18,
   "metadata": {},
   "outputs": [],
   "source": [
    "from sagemaker import get_execution_role\n",
    "\n",
    "# Our current execution role is require when creating the model as the training\n",
    "# and inference code will need to access the model artifacts.\n",
    "role = get_execution_role()"
   ]
  },
  {
   "cell_type": "code",
   "execution_count": 19,
   "metadata": {},
   "outputs": [],
   "source": [
    "# We need to retrieve the location of the container which is provided by Amazon for using XGBoost.\n",
    "# As a matter of convenience, the training and inference code both use the same container.\n",
    "from sagemaker.amazon.amazon_estimator import get_image_uri\n",
    "\n",
    "container = get_image_uri(session.boto_region_name, 'xgboost',  '0.90-1')"
   ]
  },
  {
   "cell_type": "code",
   "execution_count": 20,
   "metadata": {},
   "outputs": [],
   "source": [
    "# TODO: Create a SageMaker estimator using the container location determined in the previous cell.\n",
    "#       It is recommended that you use a single training instance of type ml.m4.xlarge. It is also\n",
    "#       recommended that you use 's3://{}/{}/output'.format(session.default_bucket(), prefix) as the\n",
    "#       output path.\n",
    "\n",
    "xgb = sagemaker.estimator.Estimator(container, # The location of the container we wish to use\n",
    "                                    role,                                    # What is our current IAM Role\n",
    "                                    train_instance_count=1,                  # How many compute instances\n",
    "                                    train_instance_type='ml.m4.xlarge',      # What kind of compute instances\n",
    "                                    output_path='s3://{}/{}/output'.format(session.default_bucket(), prefix),\n",
    "                                    sagemaker_session=session)\n",
    "\n",
    "# TODO: Set the XGBoost hyperparameters in the xgb object. Don't forget that in this case we have a binary\n",
    "#       label so we should be using the 'binary:logistic' objective.\n",
    "\n",
    "xgb.set_hyperparameters(max_depth=5,\n",
    "                        eta=0.2,\n",
    "                        gamma=4,\n",
    "                        min_child_weight=6,\n",
    "                        subsample=0.8,\n",
    "                        silent=0,\n",
    "                        objective='binary:logistic',\n",
    "                        early_stopping_rounds=10,\n",
    "                        num_round=500)"
   ]
  },
  {
   "cell_type": "markdown",
   "metadata": {},
   "source": [
    "### (TODO) Create the hyperparameter tuner\n",
    "\n",
    "Now that the base estimator has been set up we need to construct a hyperparameter tuner object which we will use to request SageMaker construct a hyperparameter tuning job.\n",
    "\n",
    "**Note:** Training a single sentiment analysis XGBoost model takes longer than training a Boston Housing XGBoost model so if you don't want the hyperparameter tuning job to take too long, make sure to not set the total number of models (jobs) too high."
   ]
  },
  {
   "cell_type": "code",
   "execution_count": 21,
   "metadata": {},
   "outputs": [],
   "source": [
    "# First, make sure to import the relevant objects used to construct the tuner\n",
    "from sagemaker.tuner import IntegerParameter, ContinuousParameter, HyperparameterTuner\n",
    "\n",
    "# TODO: Create the hyperparameter tuner object\n",
    "\n",
    "xgb_hyperparameter_tuner = HyperparameterTuner(estimator = xgb, # The estimator object to use as the basis for the training jobs.\n",
    "                                               objective_metric_name = 'validation:rmse', # The metric used to compare trained models.\n",
    "                                               objective_type = 'Minimize', # Whether we wish to minimize or maximize the metric.\n",
    "                                               max_jobs = 6, # The total number of models to train\n",
    "                                               max_parallel_jobs = 3, # The number of models to train in parallel\n",
    "                                               hyperparameter_ranges = {\n",
    "                                                    'max_depth': IntegerParameter(3, 12),\n",
    "                                                    'eta'      : ContinuousParameter(0.05, 0.5),\n",
    "                                                    'min_child_weight': IntegerParameter(2, 8),\n",
    "                                                    'subsample': ContinuousParameter(0.5, 0.9),\n",
    "                                                    'gamma': ContinuousParameter(0, 10),\n",
    "                                               })"
   ]
  },
  {
   "cell_type": "markdown",
   "metadata": {},
   "source": [
    "### Fit the hyperparameter tuner\n",
    "\n",
    "Now that the hyperparameter tuner object has been constructed, it is time to fit the various models and find the best performing model."
   ]
  },
  {
   "cell_type": "code",
   "execution_count": 22,
   "metadata": {},
   "outputs": [
    {
     "name": "stdout",
     "output_type": "stream",
     "text": [
      "CPU times: user 14 µs, sys: 0 ns, total: 14 µs\n",
      "Wall time: 17.9 µs\n"
     ]
    }
   ],
   "source": [
    "%%time\n",
    "s3_input_train = sagemaker.s3_input(s3_data=train_location, content_type='csv')\n",
    "s3_input_validation = sagemaker.s3_input(s3_data=val_location, content_type='csv')"
   ]
  },
  {
   "cell_type": "code",
   "execution_count": 23,
   "metadata": {},
   "outputs": [
    {
     "name": "stdout",
     "output_type": "stream",
     "text": [
      "CPU times: user 14.5 ms, sys: 33 µs, total: 14.6 ms\n",
      "Wall time: 327 ms\n"
     ]
    }
   ],
   "source": [
    "%%time\n",
    "xgb_hyperparameter_tuner.fit({'train': s3_input_train, 'validation': s3_input_validation})"
   ]
  },
  {
   "cell_type": "markdown",
   "metadata": {},
   "source": [
    "Remember that the tuning job is constructed and run in the background so if we want to see the progress of our training job we need to call the `wait()` method."
   ]
  },
  {
   "cell_type": "code",
   "execution_count": 24,
   "metadata": {},
   "outputs": [
    {
     "name": "stdout",
     "output_type": "stream",
     "text": [
      ".........................................................................................................................................................................................................................................................................................................................................................................!\n"
     ]
    }
   ],
   "source": [
    "xgb_hyperparameter_tuner.wait()"
   ]
  },
  {
   "cell_type": "markdown",
   "metadata": {},
   "source": [
    "### (TODO) Testing the model\n",
    "\n",
    "Now that we've run our hyperparameter tuning job, it's time to see how well the best performing model actually performs. To do this we will use SageMaker's Batch Transform functionality. Batch Transform is a convenient way to perform inference on a large dataset in a way that is not realtime. That is, we don't necessarily need to use our model's results immediately and instead we can peform inference on a large number of samples. An example of this in industry might be peforming an end of month report. This method of inference can also be useful to us as it means to can perform inference on our entire test set. \n",
    "\n",
    "Remember that in order to create a transformer object to perform the batch transform job, we need a trained estimator object. We can do that using the `attach()` method, creating an estimator object which is attached to the best trained job."
   ]
  },
  {
   "cell_type": "code",
   "execution_count": 25,
   "metadata": {},
   "outputs": [
    {
     "name": "stdout",
     "output_type": "stream",
     "text": [
      "2020-04-20 02:10:50 Starting - Preparing the instances for training\n",
      "2020-04-20 02:10:50 Downloading - Downloading input data\n",
      "2020-04-20 02:10:50 Training - Training image download completed. Training in progress.\n",
      "2020-04-20 02:10:50 Uploading - Uploading generated training model\n",
      "2020-04-20 02:10:50 Completed - Training job completed\u001b[34mINFO:sagemaker-containers:Imported framework sagemaker_xgboost_container.training\u001b[0m\n",
      "\u001b[34mINFO:sagemaker-containers:Failed to parse hyperparameter _tuning_objective_metric value validation:rmse to Json.\u001b[0m\n",
      "\u001b[34mReturning the value itself\u001b[0m\n",
      "\u001b[34mINFO:sagemaker-containers:Failed to parse hyperparameter objective value binary:logistic to Json.\u001b[0m\n",
      "\u001b[34mReturning the value itself\u001b[0m\n",
      "\u001b[34mINFO:sagemaker-containers:No GPUs detected (normal if no gpus installed)\u001b[0m\n",
      "\u001b[34mINFO:sagemaker_xgboost_container.training:Running XGBoost Sagemaker in algorithm mode\u001b[0m\n",
      "\u001b[34mINFO:root:Determined delimiter of CSV input is ','\u001b[0m\n",
      "\u001b[34mINFO:root:Determined delimiter of CSV input is ','\u001b[0m\n",
      "\u001b[34mINFO:root:Determined delimiter of CSV input is ','\u001b[0m\n",
      "\u001b[34m[02:02:33] 15000x5000 matrix with 75000000 entries loaded from /opt/ml/input/data/train?format=csv&label_column=0&delimiter=,\u001b[0m\n",
      "\u001b[34mINFO:root:Determined delimiter of CSV input is ','\u001b[0m\n",
      "\u001b[34m[02:02:34] 10000x5000 matrix with 50000000 entries loaded from /opt/ml/input/data/validation?format=csv&label_column=0&delimiter=,\u001b[0m\n",
      "\u001b[34mINFO:root:Single node training.\u001b[0m\n",
      "\u001b[34mINFO:root:Setting up HPO optimized metric to be : rmse\u001b[0m\n",
      "\u001b[34mINFO:root:Train matrix has 15000 rows\u001b[0m\n",
      "\u001b[34mINFO:root:Validation matrix has 10000 rows\u001b[0m\n",
      "\u001b[34m[0]#011train-rmse:0.47766#011validation-rmse:0.479888\u001b[0m\n",
      "\u001b[34m[1]#011train-rmse:0.460145#011validation-rmse:0.464768\u001b[0m\n",
      "\u001b[34m[2]#011train-rmse:0.445662#011validation-rmse:0.45158\u001b[0m\n",
      "\u001b[34m[3]#011train-rmse:0.433896#011validation-rmse:0.441685\u001b[0m\n",
      "\u001b[34m[4]#011train-rmse:0.423226#011validation-rmse:0.432883\u001b[0m\n",
      "\u001b[34m[5]#011train-rmse:0.41431#011validation-rmse:0.424842\u001b[0m\n",
      "\u001b[34m[6]#011train-rmse:0.405817#011validation-rmse:0.418754\u001b[0m\n",
      "\u001b[34m[7]#011train-rmse:0.399163#011validation-rmse:0.413255\u001b[0m\n",
      "\u001b[34m[8]#011train-rmse:0.392734#011validation-rmse:0.408248\u001b[0m\n",
      "\u001b[34m[9]#011train-rmse:0.386559#011validation-rmse:0.40406\u001b[0m\n",
      "\u001b[34m[10]#011train-rmse:0.381008#011validation-rmse:0.399657\u001b[0m\n",
      "\u001b[34m[11]#011train-rmse:0.37625#011validation-rmse:0.395473\u001b[0m\n",
      "\u001b[34m[12]#011train-rmse:0.370946#011validation-rmse:0.391673\u001b[0m\n",
      "\u001b[34m[13]#011train-rmse:0.367025#011validation-rmse:0.388622\u001b[0m\n",
      "\u001b[34m[14]#011train-rmse:0.363132#011validation-rmse:0.385519\u001b[0m\n",
      "\u001b[34m[15]#011train-rmse:0.359529#011validation-rmse:0.383074\u001b[0m\n",
      "\u001b[34m[16]#011train-rmse:0.355678#011validation-rmse:0.380647\u001b[0m\n",
      "\u001b[34m[17]#011train-rmse:0.352449#011validation-rmse:0.378056\u001b[0m\n",
      "\u001b[34m[18]#011train-rmse:0.34944#011validation-rmse:0.375562\u001b[0m\n",
      "\u001b[34m[19]#011train-rmse:0.346518#011validation-rmse:0.373843\u001b[0m\n",
      "\u001b[34m[20]#011train-rmse:0.343714#011validation-rmse:0.371694\u001b[0m\n",
      "\u001b[34m[21]#011train-rmse:0.341024#011validation-rmse:0.369723\u001b[0m\n",
      "\u001b[34m[22]#011train-rmse:0.337434#011validation-rmse:0.367818\u001b[0m\n",
      "\u001b[34m[23]#011train-rmse:0.334665#011validation-rmse:0.365991\u001b[0m\n",
      "\u001b[34m[24]#011train-rmse:0.332116#011validation-rmse:0.36429\u001b[0m\n",
      "\u001b[34m[25]#011train-rmse:0.329143#011validation-rmse:0.362604\u001b[0m\n",
      "\u001b[34m[26]#011train-rmse:0.326597#011validation-rmse:0.361135\u001b[0m\n",
      "\u001b[34m[27]#011train-rmse:0.324442#011validation-rmse:0.359734\u001b[0m\n",
      "\u001b[34m[28]#011train-rmse:0.322222#011validation-rmse:0.358425\u001b[0m\n",
      "\u001b[34m[29]#011train-rmse:0.320487#011validation-rmse:0.357037\u001b[0m\n",
      "\u001b[34m[30]#011train-rmse:0.318261#011validation-rmse:0.35588\u001b[0m\n",
      "\u001b[34m[31]#011train-rmse:0.316212#011validation-rmse:0.354494\u001b[0m\n",
      "\u001b[34m[32]#011train-rmse:0.314018#011validation-rmse:0.353397\u001b[0m\n",
      "\u001b[34m[33]#011train-rmse:0.312479#011validation-rmse:0.352196\u001b[0m\n",
      "\u001b[34m[34]#011train-rmse:0.310926#011validation-rmse:0.350777\u001b[0m\n",
      "\u001b[34m[35]#011train-rmse:0.30948#011validation-rmse:0.349754\u001b[0m\n",
      "\u001b[34m[36]#011train-rmse:0.307524#011validation-rmse:0.348526\u001b[0m\n",
      "\u001b[34m[37]#011train-rmse:0.305913#011validation-rmse:0.347693\u001b[0m\n",
      "\u001b[34m[38]#011train-rmse:0.303922#011validation-rmse:0.346936\u001b[0m\n",
      "\u001b[34m[39]#011train-rmse:0.30237#011validation-rmse:0.34602\u001b[0m\n",
      "\u001b[34m[40]#011train-rmse:0.300637#011validation-rmse:0.344985\u001b[0m\n",
      "\u001b[34m[41]#011train-rmse:0.299249#011validation-rmse:0.344314\u001b[0m\n",
      "\u001b[34m[42]#011train-rmse:0.297899#011validation-rmse:0.34353\u001b[0m\n",
      "\u001b[34m[43]#011train-rmse:0.296705#011validation-rmse:0.342722\u001b[0m\n",
      "\u001b[34m[44]#011train-rmse:0.295664#011validation-rmse:0.342023\u001b[0m\n",
      "\u001b[34m[45]#011train-rmse:0.29442#011validation-rmse:0.341364\u001b[0m\n",
      "\u001b[34m[46]#011train-rmse:0.293068#011validation-rmse:0.340564\u001b[0m\n",
      "\u001b[34m[47]#011train-rmse:0.291693#011validation-rmse:0.339698\u001b[0m\n",
      "\u001b[34m[48]#011train-rmse:0.290185#011validation-rmse:0.33922\u001b[0m\n",
      "\u001b[34m[49]#011train-rmse:0.288752#011validation-rmse:0.338403\u001b[0m\n",
      "\u001b[34m[50]#011train-rmse:0.287191#011validation-rmse:0.337652\u001b[0m\n",
      "\u001b[34m[51]#011train-rmse:0.286077#011validation-rmse:0.337219\u001b[0m\n",
      "\u001b[34m[52]#011train-rmse:0.285078#011validation-rmse:0.336614\u001b[0m\n",
      "\u001b[34m[53]#011train-rmse:0.283697#011validation-rmse:0.336097\u001b[0m\n",
      "\u001b[34m[54]#011train-rmse:0.282162#011validation-rmse:0.335409\u001b[0m\n",
      "\u001b[34m[55]#011train-rmse:0.280863#011validation-rmse:0.334687\u001b[0m\n",
      "\u001b[34m[56]#011train-rmse:0.279954#011validation-rmse:0.334364\u001b[0m\n",
      "\u001b[34m[57]#011train-rmse:0.279023#011validation-rmse:0.333766\u001b[0m\n",
      "\u001b[34m[58]#011train-rmse:0.278185#011validation-rmse:0.333005\u001b[0m\n",
      "\u001b[34m[59]#011train-rmse:0.277361#011validation-rmse:0.332389\u001b[0m\n",
      "\u001b[34m[60]#011train-rmse:0.276668#011validation-rmse:0.331842\u001b[0m\n",
      "\u001b[34m[61]#011train-rmse:0.275471#011validation-rmse:0.331414\u001b[0m\n",
      "\u001b[34m[62]#011train-rmse:0.274526#011validation-rmse:0.33101\u001b[0m\n",
      "\u001b[34m[63]#011train-rmse:0.273897#011validation-rmse:0.330485\u001b[0m\n",
      "\u001b[34m[64]#011train-rmse:0.273055#011validation-rmse:0.330044\u001b[0m\n",
      "\u001b[34m[65]#011train-rmse:0.271959#011validation-rmse:0.32957\u001b[0m\n",
      "\u001b[34m[66]#011train-rmse:0.270766#011validation-rmse:0.329203\u001b[0m\n",
      "\u001b[34m[67]#011train-rmse:0.269753#011validation-rmse:0.328957\u001b[0m\n",
      "\u001b[34m[68]#011train-rmse:0.268667#011validation-rmse:0.328509\u001b[0m\n",
      "\u001b[34m[69]#011train-rmse:0.267261#011validation-rmse:0.328008\u001b[0m\n",
      "\u001b[34m[70]#011train-rmse:0.266461#011validation-rmse:0.327673\u001b[0m\n",
      "\u001b[34m[71]#011train-rmse:0.265724#011validation-rmse:0.327172\u001b[0m\n",
      "\u001b[34m[72]#011train-rmse:0.264687#011validation-rmse:0.326668\u001b[0m\n",
      "\u001b[34m[73]#011train-rmse:0.26379#011validation-rmse:0.32634\u001b[0m\n",
      "\u001b[34m[74]#011train-rmse:0.26287#011validation-rmse:0.326052\u001b[0m\n",
      "\u001b[34m[75]#011train-rmse:0.262206#011validation-rmse:0.325634\u001b[0m\n",
      "\u001b[34m[76]#011train-rmse:0.260785#011validation-rmse:0.325292\u001b[0m\n",
      "\u001b[34m[77]#011train-rmse:0.260216#011validation-rmse:0.32497\u001b[0m\n",
      "\u001b[34m[78]#011train-rmse:0.259702#011validation-rmse:0.324783\u001b[0m\n",
      "\u001b[34m[79]#011train-rmse:0.258963#011validation-rmse:0.324395\u001b[0m\n",
      "\u001b[34m[80]#011train-rmse:0.258152#011validation-rmse:0.324055\u001b[0m\n",
      "\u001b[34m[81]#011train-rmse:0.257616#011validation-rmse:0.324008\u001b[0m\n",
      "\u001b[34m[82]#011train-rmse:0.256865#011validation-rmse:0.323827\u001b[0m\n",
      "\u001b[34m[83]#011train-rmse:0.256288#011validation-rmse:0.323444\u001b[0m\n",
      "\u001b[34m[84]#011train-rmse:0.255381#011validation-rmse:0.32295\u001b[0m\n",
      "\u001b[34m[85]#011train-rmse:0.254769#011validation-rmse:0.322617\u001b[0m\n",
      "\u001b[34m[86]#011train-rmse:0.253982#011validation-rmse:0.322194\u001b[0m\n",
      "\u001b[34m[87]#011train-rmse:0.253034#011validation-rmse:0.322133\u001b[0m\n",
      "\u001b[34m[88]#011train-rmse:0.252621#011validation-rmse:0.32207\u001b[0m\n",
      "\u001b[34m[89]#011train-rmse:0.252044#011validation-rmse:0.321788\u001b[0m\n",
      "\u001b[34m[90]#011train-rmse:0.251365#011validation-rmse:0.321428\u001b[0m\n",
      "\u001b[34m[91]#011train-rmse:0.250631#011validation-rmse:0.321074\u001b[0m\n",
      "\u001b[34m[92]#011train-rmse:0.250081#011validation-rmse:0.320922\u001b[0m\n",
      "\u001b[34m[93]#011train-rmse:0.24949#011validation-rmse:0.320579\u001b[0m\n",
      "\u001b[34m[94]#011train-rmse:0.249034#011validation-rmse:0.320338\u001b[0m\n",
      "\u001b[34m[95]#011train-rmse:0.248453#011validation-rmse:0.32029\u001b[0m\n",
      "\u001b[34m[96]#011train-rmse:0.24756#011validation-rmse:0.319956\u001b[0m\n",
      "\u001b[34m[97]#011train-rmse:0.247063#011validation-rmse:0.319736\u001b[0m\n",
      "\u001b[34m[98]#011train-rmse:0.246442#011validation-rmse:0.319623\u001b[0m\n",
      "\u001b[34m[99]#011train-rmse:0.246104#011validation-rmse:0.319469\u001b[0m\n",
      "\u001b[34m[100]#011train-rmse:0.245452#011validation-rmse:0.319032\u001b[0m\n",
      "\u001b[34m[101]#011train-rmse:0.244918#011validation-rmse:0.31885\u001b[0m\n",
      "\u001b[34m[102]#011train-rmse:0.243912#011validation-rmse:0.318594\u001b[0m\n",
      "\u001b[34m[103]#011train-rmse:0.243385#011validation-rmse:0.318397\u001b[0m\n",
      "\u001b[34m[104]#011train-rmse:0.242925#011validation-rmse:0.318099\u001b[0m\n",
      "\u001b[34m[105]#011train-rmse:0.24228#011validation-rmse:0.31777\u001b[0m\n",
      "\u001b[34m[106]#011train-rmse:0.241531#011validation-rmse:0.317429\u001b[0m\n",
      "\u001b[34m[107]#011train-rmse:0.241023#011validation-rmse:0.317265\u001b[0m\n",
      "\u001b[34m[108]#011train-rmse:0.24055#011validation-rmse:0.317215\u001b[0m\n",
      "\u001b[34m[109]#011train-rmse:0.240014#011validation-rmse:0.316893\u001b[0m\n",
      "\u001b[34m[110]#011train-rmse:0.239562#011validation-rmse:0.316577\u001b[0m\n",
      "\u001b[34m[111]#011train-rmse:0.239036#011validation-rmse:0.316257\u001b[0m\n",
      "\u001b[34m[112]#011train-rmse:0.238269#011validation-rmse:0.316023\u001b[0m\n",
      "\u001b[34m[113]#011train-rmse:0.237721#011validation-rmse:0.31583\u001b[0m\n",
      "\u001b[34m[114]#011train-rmse:0.237272#011validation-rmse:0.315543\u001b[0m\n",
      "\u001b[34m[115]#011train-rmse:0.236797#011validation-rmse:0.315454\u001b[0m\n",
      "\u001b[34m[116]#011train-rmse:0.236352#011validation-rmse:0.315313\u001b[0m\n",
      "\u001b[34m[117]#011train-rmse:0.235965#011validation-rmse:0.315272\u001b[0m\n",
      "\u001b[34m[118]#011train-rmse:0.235456#011validation-rmse:0.315284\u001b[0m\n",
      "\u001b[34m[119]#011train-rmse:0.235072#011validation-rmse:0.315307\u001b[0m\n",
      "\u001b[34m[120]#011train-rmse:0.234698#011validation-rmse:0.315087\u001b[0m\n",
      "\u001b[34m[121]#011train-rmse:0.234157#011validation-rmse:0.315029\u001b[0m\n",
      "\u001b[34m[122]#011train-rmse:0.233762#011validation-rmse:0.31501\u001b[0m\n",
      "\u001b[34m[123]#011train-rmse:0.233435#011validation-rmse:0.314789\u001b[0m\n",
      "\u001b[34m[124]#011train-rmse:0.233037#011validation-rmse:0.314561\u001b[0m\n",
      "\u001b[34m[125]#011train-rmse:0.232717#011validation-rmse:0.314411\u001b[0m\n",
      "\u001b[34m[126]#011train-rmse:0.232228#011validation-rmse:0.314172\u001b[0m\n",
      "\u001b[34m[127]#011train-rmse:0.231783#011validation-rmse:0.313943\u001b[0m\n",
      "\u001b[34m[128]#011train-rmse:0.231114#011validation-rmse:0.313739\u001b[0m\n",
      "\u001b[34m[129]#011train-rmse:0.230454#011validation-rmse:0.313575\u001b[0m\n",
      "\u001b[34m[130]#011train-rmse:0.229818#011validation-rmse:0.313493\u001b[0m\n",
      "\u001b[34m[131]#011train-rmse:0.229419#011validation-rmse:0.313323\u001b[0m\n",
      "\u001b[34m[132]#011train-rmse:0.228978#011validation-rmse:0.313351\u001b[0m\n",
      "\u001b[34m[133]#011train-rmse:0.228598#011validation-rmse:0.313281\u001b[0m\n",
      "\u001b[34m[134]#011train-rmse:0.228106#011validation-rmse:0.313068\u001b[0m\n",
      "\u001b[34m[135]#011train-rmse:0.227771#011validation-rmse:0.312908\u001b[0m\n",
      "\u001b[34m[136]#011train-rmse:0.227425#011validation-rmse:0.312734\u001b[0m\n",
      "\u001b[34m[137]#011train-rmse:0.226891#011validation-rmse:0.312685\u001b[0m\n",
      "\u001b[34m[138]#011train-rmse:0.22618#011validation-rmse:0.312416\u001b[0m\n",
      "\u001b[34m[139]#011train-rmse:0.225659#011validation-rmse:0.312274\u001b[0m\n",
      "\u001b[34m[140]#011train-rmse:0.225378#011validation-rmse:0.312003\u001b[0m\n",
      "\u001b[34m[141]#011train-rmse:0.225015#011validation-rmse:0.311962\u001b[0m\n",
      "\u001b[34m[142]#011train-rmse:0.224637#011validation-rmse:0.312049\u001b[0m\n",
      "\u001b[34m[143]#011train-rmse:0.224172#011validation-rmse:0.311878\u001b[0m\n",
      "\u001b[34m[144]#011train-rmse:0.223737#011validation-rmse:0.311744\u001b[0m\n",
      "\u001b[34m[145]#011train-rmse:0.223086#011validation-rmse:0.31142\u001b[0m\n",
      "\u001b[34m[146]#011train-rmse:0.222398#011validation-rmse:0.311226\u001b[0m\n",
      "\u001b[34m[147]#011train-rmse:0.222104#011validation-rmse:0.31121\u001b[0m\n",
      "\u001b[34m[148]#011train-rmse:0.221818#011validation-rmse:0.311097\u001b[0m\n",
      "\u001b[34m[149]#011train-rmse:0.221455#011validation-rmse:0.310786\u001b[0m\n",
      "\u001b[34m[150]#011train-rmse:0.220863#011validation-rmse:0.310699\u001b[0m\n",
      "\u001b[34m[151]#011train-rmse:0.220415#011validation-rmse:0.310693\u001b[0m\n",
      "\u001b[34m[152]#011train-rmse:0.22007#011validation-rmse:0.310465\u001b[0m\n",
      "\u001b[34m[153]#011train-rmse:0.219816#011validation-rmse:0.310342\u001b[0m\n",
      "\u001b[34m[154]#011train-rmse:0.21936#011validation-rmse:0.310264\u001b[0m\n",
      "\u001b[34m[155]#011train-rmse:0.21911#011validation-rmse:0.310261\u001b[0m\n",
      "\u001b[34m[156]#011train-rmse:0.218715#011validation-rmse:0.3101\u001b[0m\n",
      "\u001b[34m[157]#011train-rmse:0.218427#011validation-rmse:0.310053\u001b[0m\n",
      "\u001b[34m[158]#011train-rmse:0.218009#011validation-rmse:0.309915\u001b[0m\n",
      "\u001b[34m[159]#011train-rmse:0.217727#011validation-rmse:0.309619\u001b[0m\n",
      "\u001b[34m[160]#011train-rmse:0.217#011validation-rmse:0.309543\u001b[0m\n",
      "\u001b[34m[161]#011train-rmse:0.216711#011validation-rmse:0.309413\u001b[0m\n",
      "\u001b[34m[162]#011train-rmse:0.216251#011validation-rmse:0.309242\u001b[0m\n",
      "\u001b[34m[163]#011train-rmse:0.215853#011validation-rmse:0.309078\u001b[0m\n",
      "\u001b[34m[164]#011train-rmse:0.215447#011validation-rmse:0.308976\u001b[0m\n",
      "\u001b[34m[165]#011train-rmse:0.215165#011validation-rmse:0.30882\u001b[0m\n",
      "\u001b[34m[166]#011train-rmse:0.214796#011validation-rmse:0.308725\u001b[0m\n",
      "\u001b[34m[167]#011train-rmse:0.214587#011validation-rmse:0.308714\u001b[0m\n",
      "\u001b[34m[168]#011train-rmse:0.214203#011validation-rmse:0.308558\u001b[0m\n",
      "\u001b[34m[169]#011train-rmse:0.21401#011validation-rmse:0.308532\u001b[0m\n",
      "\u001b[34m[170]#011train-rmse:0.2138#011validation-rmse:0.308433\u001b[0m\n",
      "\u001b[34m[171]#011train-rmse:0.21356#011validation-rmse:0.308342\u001b[0m\n",
      "\u001b[34m[172]#011train-rmse:0.213191#011validation-rmse:0.308132\u001b[0m\n",
      "\u001b[34m[173]#011train-rmse:0.212854#011validation-rmse:0.30801\u001b[0m\n",
      "\u001b[34m[174]#011train-rmse:0.212616#011validation-rmse:0.308121\u001b[0m\n",
      "\u001b[34m[175]#011train-rmse:0.212113#011validation-rmse:0.308174\u001b[0m\n",
      "\u001b[34m[176]#011train-rmse:0.211714#011validation-rmse:0.308092\u001b[0m\n",
      "\u001b[34m[177]#011train-rmse:0.211176#011validation-rmse:0.307975\u001b[0m\n",
      "\u001b[34m[178]#011train-rmse:0.21089#011validation-rmse:0.307937\u001b[0m\n",
      "\u001b[34m[179]#011train-rmse:0.210757#011validation-rmse:0.307819\u001b[0m\n",
      "\u001b[34m[180]#011train-rmse:0.210456#011validation-rmse:0.307752\u001b[0m\n",
      "\u001b[34m[181]#011train-rmse:0.21016#011validation-rmse:0.307663\u001b[0m\n",
      "\u001b[34m[182]#011train-rmse:0.209738#011validation-rmse:0.307514\u001b[0m\n",
      "\u001b[34m[183]#011train-rmse:0.209451#011validation-rmse:0.307606\u001b[0m\n",
      "\u001b[34m[184]#011train-rmse:0.208911#011validation-rmse:0.307526\u001b[0m\n",
      "\u001b[34m[185]#011train-rmse:0.208537#011validation-rmse:0.307367\u001b[0m\n",
      "\u001b[34m[186]#011train-rmse:0.208347#011validation-rmse:0.307268\u001b[0m\n",
      "\u001b[34m[187]#011train-rmse:0.208005#011validation-rmse:0.307009\u001b[0m\n",
      "\u001b[34m[188]#011train-rmse:0.207729#011validation-rmse:0.306945\u001b[0m\n",
      "\u001b[34m[189]#011train-rmse:0.2075#011validation-rmse:0.306807\u001b[0m\n",
      "\u001b[34m[190]#011train-rmse:0.207048#011validation-rmse:0.306982\u001b[0m\n",
      "\u001b[34m[191]#011train-rmse:0.206657#011validation-rmse:0.306896\u001b[0m\n",
      "\u001b[34m[192]#011train-rmse:0.206275#011validation-rmse:0.306874\u001b[0m\n",
      "\u001b[34m[193]#011train-rmse:0.205963#011validation-rmse:0.306929\u001b[0m\n",
      "\u001b[34m[194]#011train-rmse:0.20569#011validation-rmse:0.306912\u001b[0m\n",
      "\u001b[34m[195]#011train-rmse:0.205578#011validation-rmse:0.306851\u001b[0m\n",
      "\u001b[34m[196]#011train-rmse:0.20533#011validation-rmse:0.307007\u001b[0m\n",
      "\u001b[34m[197]#011train-rmse:0.205045#011validation-rmse:0.306973\u001b[0m\n",
      "\u001b[34m[198]#011train-rmse:0.204822#011validation-rmse:0.306952\u001b[0m\n",
      "\u001b[34m[199]#011train-rmse:0.204561#011validation-rmse:0.306949\u001b[0m\n",
      "Training seconds: 551\n",
      "Billable seconds: 551\n",
      "CPU times: user 234 ms, sys: 8.53 ms, total: 243 ms\n",
      "Wall time: 499 ms\n"
     ]
    }
   ],
   "source": [
    "%%time\n",
    "# TODO: Create a new estimator object attached to the best training job found during hyperparameter tuning\n",
    "\n",
    "xgb_attached = sagemaker.estimator.Estimator.attach(xgb_hyperparameter_tuner.best_training_job())"
   ]
  },
  {
   "cell_type": "markdown",
   "metadata": {},
   "source": [
    "Now that we have an estimator object attached to the correct training job, we can proceed as we normally would and create a transformer object."
   ]
  },
  {
   "cell_type": "code",
   "execution_count": 26,
   "metadata": {},
   "outputs": [
    {
     "name": "stdout",
     "output_type": "stream",
     "text": [
      "CPU times: user 11.9 ms, sys: 3.85 ms, total: 15.8 ms\n",
      "Wall time: 366 ms\n"
     ]
    }
   ],
   "source": [
    "%%time\n",
    "# TODO: Create a transformer object from the attached estimator. Using an instance count of 1 and an instance type of ml.m4.xlarge\n",
    "#       should be more than enough.\n",
    "\n",
    "xgb_transformer = xgb_attached.transformer(instance_count = 1, instance_type = 'ml.m4.xlarge')\n"
   ]
  },
  {
   "cell_type": "markdown",
   "metadata": {},
   "source": [
    "Next we actually perform the transform job. When doing so we need to make sure to specify the type of data we are sending so that it is serialized correctly in the background. In our case we are providing our model with csv data so we specify `text/csv`. Also, if the test data that we have provided is too large to process all at once then we need to specify how the data file should be split up. Since each line is a single entry in our data set we tell SageMaker that it can split the input on each line."
   ]
  },
  {
   "cell_type": "code",
   "execution_count": 27,
   "metadata": {},
   "outputs": [
    {
     "name": "stdout",
     "output_type": "stream",
     "text": [
      "CPU times: user 58.4 ms, sys: 8.34 ms, total: 66.8 ms\n",
      "Wall time: 456 ms\n"
     ]
    }
   ],
   "source": [
    "%%time\n",
    "# TODO: Start the transform job. Make sure to specify the content type and the split type of the test data.\n",
    "xgb_transformer.transform(test_location, content_type='text/csv', split_type='Line')"
   ]
  },
  {
   "cell_type": "markdown",
   "metadata": {},
   "source": [
    "Currently the transform job is running but it is doing so in the background. Since we wish to wait until the transform job is done and we would like a bit of feedback we can run the `wait()` method."
   ]
  },
  {
   "cell_type": "code",
   "execution_count": 28,
   "metadata": {},
   "outputs": [
    {
     "name": "stdout",
     "output_type": "stream",
     "text": [
      "..........................\u001b[34m[2020-04-20 02:25:30 +0000] [16] [INFO] Starting gunicorn 19.10.0\u001b[0m\n",
      "\u001b[34m[2020-04-20 02:25:30 +0000] [16] [INFO] Listening at: unix:/tmp/gunicorn.sock (16)\u001b[0m\n",
      "\u001b[34m[2020-04-20 02:25:30 +0000] [16] [INFO] Using worker: gevent\u001b[0m\n",
      "\u001b[34m[2020-04-20 02:25:30 +0000] [23] [INFO] Booting worker with pid: 23\u001b[0m\n",
      "\u001b[34m[2020-04-20 02:25:30 +0000] [24] [INFO] Booting worker with pid: 24\u001b[0m\n",
      "\u001b[34m[2020-04-20 02:25:30 +0000] [25] [INFO] Booting worker with pid: 25\u001b[0m\n",
      "\u001b[34m[2020-04-20 02:25:30 +0000] [26] [INFO] Booting worker with pid: 26\u001b[0m\n",
      "\n",
      "\u001b[34m[2020-04-20:02:25:55:INFO] No GPUs detected (normal if no gpus installed)\u001b[0m\n",
      "\u001b[34m169.254.255.130 - - [20/Apr/2020:02:25:55 +0000] \"GET /ping HTTP/1.1\" 200 0 \"-\" \"Go-http-client/1.1\"\u001b[0m\n",
      "\u001b[34m169.254.255.130 - - [20/Apr/2020:02:25:55 +0000] \"GET /execution-parameters HTTP/1.1\" 200 84 \"-\" \"Go-http-client/1.1\"\u001b[0m\n",
      "\u001b[35m[2020-04-20:02:25:55:INFO] No GPUs detected (normal if no gpus installed)\u001b[0m\n",
      "\u001b[35m169.254.255.130 - - [20/Apr/2020:02:25:55 +0000] \"GET /ping HTTP/1.1\" 200 0 \"-\" \"Go-http-client/1.1\"\u001b[0m\n",
      "\u001b[35m169.254.255.130 - - [20/Apr/2020:02:25:55 +0000] \"GET /execution-parameters HTTP/1.1\" 200 84 \"-\" \"Go-http-client/1.1\"\u001b[0m\n",
      "\u001b[34m[2020-04-20:02:25:58:INFO] No GPUs detected (normal if no gpus installed)\u001b[0m\n",
      "\u001b[34m[2020-04-20:02:25:58:INFO] Determined delimiter of CSV input is ','\u001b[0m\n",
      "\u001b[35m[2020-04-20:02:25:58:INFO] No GPUs detected (normal if no gpus installed)\u001b[0m\n",
      "\u001b[35m[2020-04-20:02:25:58:INFO] Determined delimiter of CSV input is ','\u001b[0m\n",
      "\u001b[34m[2020-04-20:02:25:58:INFO] No GPUs detected (normal if no gpus installed)\u001b[0m\n",
      "\u001b[34m[2020-04-20:02:25:58:INFO] No GPUs detected (normal if no gpus installed)\u001b[0m\n",
      "\u001b[34m[2020-04-20:02:25:58:INFO] Determined delimiter of CSV input is ','\u001b[0m\n",
      "\u001b[34m[2020-04-20:02:25:58:INFO] Determined delimiter of CSV input is ','\u001b[0m\n",
      "\u001b[34m[2020-04-20:02:25:58:INFO] Determined delimiter of CSV input is ','\u001b[0m\n",
      "\u001b[35m[2020-04-20:02:25:58:INFO] No GPUs detected (normal if no gpus installed)\u001b[0m\n",
      "\u001b[35m[2020-04-20:02:25:58:INFO] No GPUs detected (normal if no gpus installed)\u001b[0m\n",
      "\u001b[35m[2020-04-20:02:25:58:INFO] Determined delimiter of CSV input is ','\u001b[0m\n",
      "\u001b[35m[2020-04-20:02:25:58:INFO] Determined delimiter of CSV input is ','\u001b[0m\n",
      "\u001b[35m[2020-04-20:02:25:58:INFO] Determined delimiter of CSV input is ','\u001b[0m\n",
      "\u001b[32m2020-04-20T02:25:55.699:[sagemaker logs]: MaxConcurrentTransforms=4, MaxPayloadInMB=6, BatchStrategy=MULTI_RECORD\u001b[0m\n",
      "\u001b[34m[2020-04-20:02:26:01:ERROR] Feature size of csv inference data 5001 is not consistent with feature size of trained model 5000.\u001b[0m\n",
      "\u001b[35m[2020-04-20:02:26:01:ERROR] Feature size of csv inference data 5001 is not consistent with feature size of trained model 5000.\u001b[0m\n",
      "\u001b[34mTraceback (most recent call last):\n",
      "  File \"/miniconda3/lib/python3.7/site-packages/sagemaker_xgboost_container/algorithm_mode/serve.py\", line 264, in invocations\n",
      "    preds = ScoringService.predict(data=dtest, content_type=content_type, model_format=format)\n",
      "  File \"/miniconda3/lib/python3.7/site-packages/sagemaker_xgboost_container/algorithm_mode/serve.py\", line 116, in predict\n",
      "    format(content_type, y, x))\u001b[0m\n",
      "\u001b[34mValueError: Feature size of csv inference data 5001 is not consistent with feature size of trained model 5000.\u001b[0m\n",
      "\u001b[34m169.254.255.130 - - [20/Apr/2020:02:26:01 +0000] \"POST /invocations HTTP/1.1\" 400 135 \"-\" \"Go-http-client/1.1\"\u001b[0m\n",
      "\u001b[34m[2020-04-20:02:26:01:ERROR] Feature size of csv inference data 5001 is not consistent with feature size of trained model 5000.\u001b[0m\n",
      "\u001b[34mTraceback (most recent call last):\n",
      "  File \"/miniconda3/lib/python3.7/site-packages/sagemaker_xgboost_container/algorithm_mode/serve.py\", line 264, in invocations\n",
      "    preds = ScoringService.predict(data=dtest, content_type=content_type, model_format=format)\n",
      "  File \"/miniconda3/lib/python3.7/site-packages/sagemaker_xgboost_container/algorithm_mode/serve.py\", line 116, in predict\n",
      "    format(content_type, y, x))\u001b[0m\n",
      "\u001b[34mValueError: Feature size of csv inference data 5001 is not consistent with feature size of trained model 5000.\u001b[0m\n",
      "\u001b[34m169.254.255.130 - - [20/Apr/2020:02:26:01 +0000] \"POST /invocations HTTP/1.1\" 400 135 \"-\" \"Go-http-client/1.1\"\u001b[0m\n",
      "\u001b[34m[2020-04-20:02:26:01:ERROR] Feature size of csv inference data 5001 is not consistent with feature size of trained model 5000.\u001b[0m\n",
      "\u001b[34mTraceback (most recent call last):\n",
      "  File \"/miniconda3/lib/python3.7/site-packages/sagemaker_xgboost_container/algorithm_mode/serve.py\", line 264, in invocations\n",
      "    preds = ScoringService.predict(data=dtest, content_type=content_type, model_format=format)\n",
      "  File \"/miniconda3/lib/python3.7/site-packages/sagemaker_xgboost_container/algorithm_mode/serve.py\", line 116, in predict\n",
      "    format(content_type, y, x))\u001b[0m\n",
      "\u001b[34mValueError: Feature size of csv inference data 5001 is not consistent with feature size of trained model 5000.\u001b[0m\n",
      "\u001b[34m169.254.255.130 - - [20/Apr/2020:02:26:01 +0000] \"POST /invocations HTTP/1.1\" 400 135 \"-\" \"Go-http-client/1.1\"\u001b[0m\n",
      "\u001b[34m[2020-04-20:02:26:01:ERROR] Feature size of csv inference data 5001 is not consistent with feature size of trained model 5000.\u001b[0m\n",
      "\u001b[34mTraceback (most recent call last):\n",
      "  File \"/miniconda3/lib/python3.7/site-packages/sagemaker_xgboost_container/algorithm_mode/serve.py\", line 264, in invocations\n",
      "    preds = ScoringService.predict(data=dtest, content_type=content_type, model_format=format)\n",
      "  File \"/miniconda3/lib/python3.7/site-packages/sagemaker_xgboost_container/algorithm_mode/serve.py\", line 116, in predict\n",
      "    format(content_type, y, x))\u001b[0m\n",
      "\u001b[34mValueError: Feature size of csv inference data 5001 is not consistent with feature size of trained model 5000.\u001b[0m\n",
      "\u001b[34m169.254.255.130 - - [20/Apr/2020:02:26:01 +0000] \"POST /invocations HTTP/1.1\" 400 135 \"-\" \"Go-http-client/1.1\"\u001b[0m\n",
      "\u001b[35mTraceback (most recent call last):\n",
      "  File \"/miniconda3/lib/python3.7/site-packages/sagemaker_xgboost_container/algorithm_mode/serve.py\", line 264, in invocations\n",
      "    preds = ScoringService.predict(data=dtest, content_type=content_type, model_format=format)\n",
      "  File \"/miniconda3/lib/python3.7/site-packages/sagemaker_xgboost_container/algorithm_mode/serve.py\", line 116, in predict\n",
      "    format(content_type, y, x))\u001b[0m\n",
      "\u001b[35mValueError: Feature size of csv inference data 5001 is not consistent with feature size of trained model 5000.\u001b[0m\n",
      "\u001b[35m169.254.255.130 - - [20/Apr/2020:02:26:01 +0000] \"POST /invocations HTTP/1.1\" 400 135 \"-\" \"Go-http-client/1.1\"\u001b[0m\n",
      "\u001b[35m[2020-04-20:02:26:01:ERROR] Feature size of csv inference data 5001 is not consistent with feature size of trained model 5000.\u001b[0m\n",
      "\u001b[35mTraceback (most recent call last):\n",
      "  File \"/miniconda3/lib/python3.7/site-packages/sagemaker_xgboost_container/algorithm_mode/serve.py\", line 264, in invocations\n",
      "    preds = ScoringService.predict(data=dtest, content_type=content_type, model_format=format)\n",
      "  File \"/miniconda3/lib/python3.7/site-packages/sagemaker_xgboost_container/algorithm_mode/serve.py\", line 116, in predict\n",
      "    format(content_type, y, x))\u001b[0m\n",
      "\u001b[35mValueError: Feature size of csv inference data 5001 is not consistent with feature size of trained model 5000.\u001b[0m\n",
      "\u001b[35m169.254.255.130 - - [20/Apr/2020:02:26:01 +0000] \"POST /invocations HTTP/1.1\" 400 135 \"-\" \"Go-http-client/1.1\"\u001b[0m\n",
      "\u001b[35m[2020-04-20:02:26:01:ERROR] Feature size of csv inference data 5001 is not consistent with feature size of trained model 5000.\u001b[0m\n",
      "\u001b[35mTraceback (most recent call last):\n",
      "  File \"/miniconda3/lib/python3.7/site-packages/sagemaker_xgboost_container/algorithm_mode/serve.py\", line 264, in invocations\n",
      "    preds = ScoringService.predict(data=dtest, content_type=content_type, model_format=format)\n",
      "  File \"/miniconda3/lib/python3.7/site-packages/sagemaker_xgboost_container/algorithm_mode/serve.py\", line 116, in predict\n",
      "    format(content_type, y, x))\u001b[0m\n",
      "\u001b[35mValueError: Feature size of csv inference data 5001 is not consistent with feature size of trained model 5000.\u001b[0m\n",
      "\u001b[35m169.254.255.130 - - [20/Apr/2020:02:26:01 +0000] \"POST /invocations HTTP/1.1\" 400 135 \"-\" \"Go-http-client/1.1\"\u001b[0m\n",
      "\u001b[35m[2020-04-20:02:26:01:ERROR] Feature size of csv inference data 5001 is not consistent with feature size of trained model 5000.\u001b[0m\n",
      "\u001b[35mTraceback (most recent call last):\n",
      "  File \"/miniconda3/lib/python3.7/site-packages/sagemaker_xgboost_container/algorithm_mode/serve.py\", line 264, in invocations\n",
      "    preds = ScoringService.predict(data=dtest, content_type=content_type, model_format=format)\n",
      "  File \"/miniconda3/lib/python3.7/site-packages/sagemaker_xgboost_container/algorithm_mode/serve.py\", line 116, in predict\n",
      "    format(content_type, y, x))\u001b[0m\n",
      "\u001b[35mValueError: Feature size of csv inference data 5001 is not consistent with feature size of trained model 5000.\u001b[0m\n",
      "\u001b[35m169.254.255.130 - - [20/Apr/2020:02:26:01 +0000] \"POST /invocations HTTP/1.1\" 400 135 \"-\" \"Go-http-client/1.1\"\u001b[0m\n"
     ]
    },
    {
     "name": "stdout",
     "output_type": "stream",
     "text": [
      "\u001b[32m2020-04-20T02:26:01.572:[sagemaker logs]: sagemaker-us-east-1-616940979481/sentiment-xgboost/test.csv: ClientError: 400\u001b[0m\n",
      "\u001b[32m2020-04-20T02:26:01.573:[sagemaker logs]: sagemaker-us-east-1-616940979481/sentiment-xgboost/test.csv: \u001b[0m\n",
      "\u001b[32m2020-04-20T02:26:01.573:[sagemaker logs]: sagemaker-us-east-1-616940979481/sentiment-xgboost/test.csv: Message:\u001b[0m\n",
      "\u001b[32m2020-04-20T02:26:01.574:[sagemaker logs]: sagemaker-us-east-1-616940979481/sentiment-xgboost/test.csv: Unable to evaluate payload provided: Feature size of csv inference data 5001 is not consistent with feature size of trained model 5000.\u001b[0m\n",
      "\u001b[32m2020-04-20T02:26:01.766:[sagemaker logs]: sagemaker-us-east-1-616940979481/sentiment-xgboost/test.csv: ClientError: 400\u001b[0m\n",
      "\u001b[32m2020-04-20T02:26:01.767:[sagemaker logs]: sagemaker-us-east-1-616940979481/sentiment-xgboost/test.csv: \u001b[0m\n",
      "\u001b[32m2020-04-20T02:26:01.767:[sagemaker logs]: sagemaker-us-east-1-616940979481/sentiment-xgboost/test.csv: Message:\u001b[0m\n",
      "\u001b[32m2020-04-20T02:26:01.767:[sagemaker logs]: sagemaker-us-east-1-616940979481/sentiment-xgboost/test.csv: Unable to evaluate payload provided: Feature size of csv inference data 5001 is not consistent with feature size of trained model 5000.\u001b[0m\n",
      "\u001b[32m2020-04-20T02:26:01.878:[sagemaker logs]: sagemaker-us-east-1-616940979481/sentiment-xgboost/test.csv: ClientError: 400\u001b[0m\n",
      "\u001b[32m2020-04-20T02:26:01.879:[sagemaker logs]: sagemaker-us-east-1-616940979481/sentiment-xgboost/test.csv: \u001b[0m\n",
      "\u001b[32m2020-04-20T02:26:01.879:[sagemaker logs]: sagemaker-us-east-1-616940979481/sentiment-xgboost/test.csv: Message:\u001b[0m\n",
      "\u001b[32m2020-04-20T02:26:01.879:[sagemaker logs]: sagemaker-us-east-1-616940979481/sentiment-xgboost/test.csv: Unable to evaluate payload provided: Feature size of csv inference data 5001 is not consistent with feature size of trained model 5000.\u001b[0m\n",
      "\u001b[32m2020-04-20T02:26:01.984:[sagemaker logs]: sagemaker-us-east-1-616940979481/sentiment-xgboost/test.csv: ClientError: 400\u001b[0m\n",
      "\u001b[32m2020-04-20T02:26:01.984:[sagemaker logs]: sagemaker-us-east-1-616940979481/sentiment-xgboost/test.csv: \u001b[0m\n",
      "\u001b[32m2020-04-20T02:26:01.985:[sagemaker logs]: sagemaker-us-east-1-616940979481/sentiment-xgboost/test.csv: Message:\u001b[0m\n",
      "\u001b[32m2020-04-20T02:26:01.985:[sagemaker logs]: sagemaker-us-east-1-616940979481/sentiment-xgboost/test.csv: Unable to evaluate payload provided: Feature size of csv inference data 5001 is not consistent with feature size of trained model 5000.\u001b[0m\n"
     ]
    },
    {
     "ename": "UnexpectedStatusException",
     "evalue": "Error for Transform job sagemaker-xgboost-200420-0151-005-55217-2020-04-20-02-21-38-611: Failed. Reason: ClientError: See job logs for more information",
     "output_type": "error",
     "traceback": [
      "\u001b[0;31m---------------------------------------------------------------------------\u001b[0m",
      "\u001b[0;31mUnexpectedStatusException\u001b[0m                 Traceback (most recent call last)",
      "\u001b[0;32m<ipython-input-28-41dd6a2aa41e>\u001b[0m in \u001b[0;36m<module>\u001b[0;34m()\u001b[0m\n\u001b[0;32m----> 1\u001b[0;31m \u001b[0mxgb_transformer\u001b[0m\u001b[0;34m.\u001b[0m\u001b[0mwait\u001b[0m\u001b[0;34m(\u001b[0m\u001b[0;34m)\u001b[0m\u001b[0;34m\u001b[0m\u001b[0m\n\u001b[0m",
      "\u001b[0;32m~/anaconda3/envs/python3/lib/python3.6/site-packages/sagemaker/transformer.py\u001b[0m in \u001b[0;36mwait\u001b[0;34m(self, logs)\u001b[0m\n\u001b[1;32m    253\u001b[0m         \u001b[0;34m\"\"\"Placeholder docstring\"\"\"\u001b[0m\u001b[0;34m\u001b[0m\u001b[0m\n\u001b[1;32m    254\u001b[0m         \u001b[0mself\u001b[0m\u001b[0;34m.\u001b[0m\u001b[0m_ensure_last_transform_job\u001b[0m\u001b[0;34m(\u001b[0m\u001b[0;34m)\u001b[0m\u001b[0;34m\u001b[0m\u001b[0m\n\u001b[0;32m--> 255\u001b[0;31m         \u001b[0mself\u001b[0m\u001b[0;34m.\u001b[0m\u001b[0mlatest_transform_job\u001b[0m\u001b[0;34m.\u001b[0m\u001b[0mwait\u001b[0m\u001b[0;34m(\u001b[0m\u001b[0mlogs\u001b[0m\u001b[0;34m=\u001b[0m\u001b[0mlogs\u001b[0m\u001b[0;34m)\u001b[0m\u001b[0;34m\u001b[0m\u001b[0m\n\u001b[0m\u001b[1;32m    256\u001b[0m \u001b[0;34m\u001b[0m\u001b[0m\n\u001b[1;32m    257\u001b[0m     \u001b[0;32mdef\u001b[0m \u001b[0mstop_transform_job\u001b[0m\u001b[0;34m(\u001b[0m\u001b[0mself\u001b[0m\u001b[0;34m,\u001b[0m \u001b[0mwait\u001b[0m\u001b[0;34m=\u001b[0m\u001b[0;32mTrue\u001b[0m\u001b[0;34m)\u001b[0m\u001b[0;34m:\u001b[0m\u001b[0;34m\u001b[0m\u001b[0m\n",
      "\u001b[0;32m~/anaconda3/envs/python3/lib/python3.6/site-packages/sagemaker/transformer.py\u001b[0m in \u001b[0;36mwait\u001b[0;34m(self, logs)\u001b[0m\n\u001b[1;32m    382\u001b[0m     \u001b[0;32mdef\u001b[0m \u001b[0mwait\u001b[0m\u001b[0;34m(\u001b[0m\u001b[0mself\u001b[0m\u001b[0;34m,\u001b[0m \u001b[0mlogs\u001b[0m\u001b[0;34m=\u001b[0m\u001b[0;32mTrue\u001b[0m\u001b[0;34m)\u001b[0m\u001b[0;34m:\u001b[0m\u001b[0;34m\u001b[0m\u001b[0m\n\u001b[1;32m    383\u001b[0m         \u001b[0;32mif\u001b[0m \u001b[0mlogs\u001b[0m\u001b[0;34m:\u001b[0m\u001b[0;34m\u001b[0m\u001b[0m\n\u001b[0;32m--> 384\u001b[0;31m             \u001b[0mself\u001b[0m\u001b[0;34m.\u001b[0m\u001b[0msagemaker_session\u001b[0m\u001b[0;34m.\u001b[0m\u001b[0mlogs_for_transform_job\u001b[0m\u001b[0;34m(\u001b[0m\u001b[0mself\u001b[0m\u001b[0;34m.\u001b[0m\u001b[0mjob_name\u001b[0m\u001b[0;34m,\u001b[0m \u001b[0mwait\u001b[0m\u001b[0;34m=\u001b[0m\u001b[0;32mTrue\u001b[0m\u001b[0;34m)\u001b[0m\u001b[0;34m\u001b[0m\u001b[0m\n\u001b[0m\u001b[1;32m    385\u001b[0m         \u001b[0;32melse\u001b[0m\u001b[0;34m:\u001b[0m\u001b[0;34m\u001b[0m\u001b[0m\n\u001b[1;32m    386\u001b[0m             \u001b[0mself\u001b[0m\u001b[0;34m.\u001b[0m\u001b[0msagemaker_session\u001b[0m\u001b[0;34m.\u001b[0m\u001b[0mwait_for_transform_job\u001b[0m\u001b[0;34m(\u001b[0m\u001b[0mself\u001b[0m\u001b[0;34m.\u001b[0m\u001b[0mjob_name\u001b[0m\u001b[0;34m)\u001b[0m\u001b[0;34m\u001b[0m\u001b[0m\n",
      "\u001b[0;32m~/anaconda3/envs/python3/lib/python3.6/site-packages/sagemaker/session.py\u001b[0m in \u001b[0;36mlogs_for_transform_job\u001b[0;34m(self, job_name, wait, poll)\u001b[0m\n\u001b[1;32m   3191\u001b[0m \u001b[0;34m\u001b[0m\u001b[0m\n\u001b[1;32m   3192\u001b[0m         \u001b[0;32mif\u001b[0m \u001b[0mwait\u001b[0m\u001b[0;34m:\u001b[0m\u001b[0;34m\u001b[0m\u001b[0m\n\u001b[0;32m-> 3193\u001b[0;31m             \u001b[0mself\u001b[0m\u001b[0;34m.\u001b[0m\u001b[0m_check_job_status\u001b[0m\u001b[0;34m(\u001b[0m\u001b[0mjob_name\u001b[0m\u001b[0;34m,\u001b[0m \u001b[0mdescription\u001b[0m\u001b[0;34m,\u001b[0m \u001b[0;34m\"TransformJobStatus\"\u001b[0m\u001b[0;34m)\u001b[0m\u001b[0;34m\u001b[0m\u001b[0m\n\u001b[0m\u001b[1;32m   3194\u001b[0m             \u001b[0;32mif\u001b[0m \u001b[0mdot\u001b[0m\u001b[0;34m:\u001b[0m\u001b[0;34m\u001b[0m\u001b[0m\n\u001b[1;32m   3195\u001b[0m                 \u001b[0mprint\u001b[0m\u001b[0;34m(\u001b[0m\u001b[0;34m)\u001b[0m\u001b[0;34m\u001b[0m\u001b[0m\n",
      "\u001b[0;32m~/anaconda3/envs/python3/lib/python3.6/site-packages/sagemaker/session.py\u001b[0m in \u001b[0;36m_check_job_status\u001b[0;34m(self, job, desc, status_key_name)\u001b[0m\n\u001b[1;32m   2615\u001b[0m                 ),\n\u001b[1;32m   2616\u001b[0m                 \u001b[0mallowed_statuses\u001b[0m\u001b[0;34m=\u001b[0m\u001b[0;34m[\u001b[0m\u001b[0;34m\"Completed\"\u001b[0m\u001b[0;34m,\u001b[0m \u001b[0;34m\"Stopped\"\u001b[0m\u001b[0;34m]\u001b[0m\u001b[0;34m,\u001b[0m\u001b[0;34m\u001b[0m\u001b[0m\n\u001b[0;32m-> 2617\u001b[0;31m                 \u001b[0mactual_status\u001b[0m\u001b[0;34m=\u001b[0m\u001b[0mstatus\u001b[0m\u001b[0;34m,\u001b[0m\u001b[0;34m\u001b[0m\u001b[0m\n\u001b[0m\u001b[1;32m   2618\u001b[0m             )\n\u001b[1;32m   2619\u001b[0m \u001b[0;34m\u001b[0m\u001b[0m\n",
      "\u001b[0;31mUnexpectedStatusException\u001b[0m: Error for Transform job sagemaker-xgboost-200420-0151-005-55217-2020-04-20-02-21-38-611: Failed. Reason: ClientError: See job logs for more information"
     ]
    }
   ],
   "source": [
    "xgb_transformer.wait()"
   ]
  },
  {
   "cell_type": "markdown",
   "metadata": {},
   "source": [
    "Now the transform job has executed and the result, the estimated sentiment of each review, has been saved on S3. Since we would rather work on this file locally we can perform a bit of notebook magic to copy the file to the `data_dir`."
   ]
  },
  {
   "cell_type": "code",
   "execution_count": 29,
   "metadata": {},
   "outputs": [],
   "source": [
    "!aws s3 cp --recursive $xgb_transformer.output_path $data_dir"
   ]
  },
  {
   "cell_type": "markdown",
   "metadata": {},
   "source": [
    "The last step is now to read in the output from our model, convert the output to something a little more usable, in this case we want the sentiment to be either `1` (positive) or `0` (negative), and then compare to the ground truth labels."
   ]
  },
  {
   "cell_type": "code",
   "execution_count": 30,
   "metadata": {},
   "outputs": [
    {
     "ename": "FileNotFoundError",
     "evalue": "[Errno 2] File b'../data/xgboost/test.csv.out' does not exist: b'../data/xgboost/test.csv.out'",
     "output_type": "error",
     "traceback": [
      "\u001b[0;31m---------------------------------------------------------------------------\u001b[0m",
      "\u001b[0;31mFileNotFoundError\u001b[0m                         Traceback (most recent call last)",
      "\u001b[0;32m<ipython-input-30-123e18e60ff0>\u001b[0m in \u001b[0;36m<module>\u001b[0;34m()\u001b[0m\n\u001b[0;32m----> 1\u001b[0;31m \u001b[0mpredictions\u001b[0m \u001b[0;34m=\u001b[0m \u001b[0mpd\u001b[0m\u001b[0;34m.\u001b[0m\u001b[0mread_csv\u001b[0m\u001b[0;34m(\u001b[0m\u001b[0mos\u001b[0m\u001b[0;34m.\u001b[0m\u001b[0mpath\u001b[0m\u001b[0;34m.\u001b[0m\u001b[0mjoin\u001b[0m\u001b[0;34m(\u001b[0m\u001b[0mdata_dir\u001b[0m\u001b[0;34m,\u001b[0m \u001b[0;34m'test.csv.out'\u001b[0m\u001b[0;34m)\u001b[0m\u001b[0;34m,\u001b[0m \u001b[0mheader\u001b[0m\u001b[0;34m=\u001b[0m\u001b[0;32mNone\u001b[0m\u001b[0;34m)\u001b[0m\u001b[0;34m\u001b[0m\u001b[0m\n\u001b[0m\u001b[1;32m      2\u001b[0m \u001b[0mpredictions\u001b[0m \u001b[0;34m=\u001b[0m \u001b[0;34m[\u001b[0m\u001b[0mround\u001b[0m\u001b[0;34m(\u001b[0m\u001b[0mnum\u001b[0m\u001b[0;34m)\u001b[0m \u001b[0;32mfor\u001b[0m \u001b[0mnum\u001b[0m \u001b[0;32min\u001b[0m \u001b[0mpredictions\u001b[0m\u001b[0;34m.\u001b[0m\u001b[0msqueeze\u001b[0m\u001b[0;34m(\u001b[0m\u001b[0;34m)\u001b[0m\u001b[0;34m.\u001b[0m\u001b[0mvalues\u001b[0m\u001b[0;34m]\u001b[0m\u001b[0;34m\u001b[0m\u001b[0m\n",
      "\u001b[0;32m~/anaconda3/envs/python3/lib/python3.6/site-packages/pandas/io/parsers.py\u001b[0m in \u001b[0;36mparser_f\u001b[0;34m(filepath_or_buffer, sep, delimiter, header, names, index_col, usecols, squeeze, prefix, mangle_dupe_cols, dtype, engine, converters, true_values, false_values, skipinitialspace, skiprows, skipfooter, nrows, na_values, keep_default_na, na_filter, verbose, skip_blank_lines, parse_dates, infer_datetime_format, keep_date_col, date_parser, dayfirst, iterator, chunksize, compression, thousands, decimal, lineterminator, quotechar, quoting, doublequote, escapechar, comment, encoding, dialect, tupleize_cols, error_bad_lines, warn_bad_lines, delim_whitespace, low_memory, memory_map, float_precision)\u001b[0m\n\u001b[1;32m    700\u001b[0m                     skip_blank_lines=skip_blank_lines)\n\u001b[1;32m    701\u001b[0m \u001b[0;34m\u001b[0m\u001b[0m\n\u001b[0;32m--> 702\u001b[0;31m         \u001b[0;32mreturn\u001b[0m \u001b[0m_read\u001b[0m\u001b[0;34m(\u001b[0m\u001b[0mfilepath_or_buffer\u001b[0m\u001b[0;34m,\u001b[0m \u001b[0mkwds\u001b[0m\u001b[0;34m)\u001b[0m\u001b[0;34m\u001b[0m\u001b[0m\n\u001b[0m\u001b[1;32m    703\u001b[0m \u001b[0;34m\u001b[0m\u001b[0m\n\u001b[1;32m    704\u001b[0m     \u001b[0mparser_f\u001b[0m\u001b[0;34m.\u001b[0m\u001b[0m__name__\u001b[0m \u001b[0;34m=\u001b[0m \u001b[0mname\u001b[0m\u001b[0;34m\u001b[0m\u001b[0m\n",
      "\u001b[0;32m~/anaconda3/envs/python3/lib/python3.6/site-packages/pandas/io/parsers.py\u001b[0m in \u001b[0;36m_read\u001b[0;34m(filepath_or_buffer, kwds)\u001b[0m\n\u001b[1;32m    427\u001b[0m \u001b[0;34m\u001b[0m\u001b[0m\n\u001b[1;32m    428\u001b[0m     \u001b[0;31m# Create the parser.\u001b[0m\u001b[0;34m\u001b[0m\u001b[0;34m\u001b[0m\u001b[0m\n\u001b[0;32m--> 429\u001b[0;31m     \u001b[0mparser\u001b[0m \u001b[0;34m=\u001b[0m \u001b[0mTextFileReader\u001b[0m\u001b[0;34m(\u001b[0m\u001b[0mfilepath_or_buffer\u001b[0m\u001b[0;34m,\u001b[0m \u001b[0;34m**\u001b[0m\u001b[0mkwds\u001b[0m\u001b[0;34m)\u001b[0m\u001b[0;34m\u001b[0m\u001b[0m\n\u001b[0m\u001b[1;32m    430\u001b[0m \u001b[0;34m\u001b[0m\u001b[0m\n\u001b[1;32m    431\u001b[0m     \u001b[0;32mif\u001b[0m \u001b[0mchunksize\u001b[0m \u001b[0;32mor\u001b[0m \u001b[0miterator\u001b[0m\u001b[0;34m:\u001b[0m\u001b[0;34m\u001b[0m\u001b[0m\n",
      "\u001b[0;32m~/anaconda3/envs/python3/lib/python3.6/site-packages/pandas/io/parsers.py\u001b[0m in \u001b[0;36m__init__\u001b[0;34m(self, f, engine, **kwds)\u001b[0m\n\u001b[1;32m    893\u001b[0m             \u001b[0mself\u001b[0m\u001b[0;34m.\u001b[0m\u001b[0moptions\u001b[0m\u001b[0;34m[\u001b[0m\u001b[0;34m'has_index_names'\u001b[0m\u001b[0;34m]\u001b[0m \u001b[0;34m=\u001b[0m \u001b[0mkwds\u001b[0m\u001b[0;34m[\u001b[0m\u001b[0;34m'has_index_names'\u001b[0m\u001b[0;34m]\u001b[0m\u001b[0;34m\u001b[0m\u001b[0m\n\u001b[1;32m    894\u001b[0m \u001b[0;34m\u001b[0m\u001b[0m\n\u001b[0;32m--> 895\u001b[0;31m         \u001b[0mself\u001b[0m\u001b[0;34m.\u001b[0m\u001b[0m_make_engine\u001b[0m\u001b[0;34m(\u001b[0m\u001b[0mself\u001b[0m\u001b[0;34m.\u001b[0m\u001b[0mengine\u001b[0m\u001b[0;34m)\u001b[0m\u001b[0;34m\u001b[0m\u001b[0m\n\u001b[0m\u001b[1;32m    896\u001b[0m \u001b[0;34m\u001b[0m\u001b[0m\n\u001b[1;32m    897\u001b[0m     \u001b[0;32mdef\u001b[0m \u001b[0mclose\u001b[0m\u001b[0;34m(\u001b[0m\u001b[0mself\u001b[0m\u001b[0;34m)\u001b[0m\u001b[0;34m:\u001b[0m\u001b[0;34m\u001b[0m\u001b[0m\n",
      "\u001b[0;32m~/anaconda3/envs/python3/lib/python3.6/site-packages/pandas/io/parsers.py\u001b[0m in \u001b[0;36m_make_engine\u001b[0;34m(self, engine)\u001b[0m\n\u001b[1;32m   1120\u001b[0m     \u001b[0;32mdef\u001b[0m \u001b[0m_make_engine\u001b[0m\u001b[0;34m(\u001b[0m\u001b[0mself\u001b[0m\u001b[0;34m,\u001b[0m \u001b[0mengine\u001b[0m\u001b[0;34m=\u001b[0m\u001b[0;34m'c'\u001b[0m\u001b[0;34m)\u001b[0m\u001b[0;34m:\u001b[0m\u001b[0;34m\u001b[0m\u001b[0m\n\u001b[1;32m   1121\u001b[0m         \u001b[0;32mif\u001b[0m \u001b[0mengine\u001b[0m \u001b[0;34m==\u001b[0m \u001b[0;34m'c'\u001b[0m\u001b[0;34m:\u001b[0m\u001b[0;34m\u001b[0m\u001b[0m\n\u001b[0;32m-> 1122\u001b[0;31m             \u001b[0mself\u001b[0m\u001b[0;34m.\u001b[0m\u001b[0m_engine\u001b[0m \u001b[0;34m=\u001b[0m \u001b[0mCParserWrapper\u001b[0m\u001b[0;34m(\u001b[0m\u001b[0mself\u001b[0m\u001b[0;34m.\u001b[0m\u001b[0mf\u001b[0m\u001b[0;34m,\u001b[0m \u001b[0;34m**\u001b[0m\u001b[0mself\u001b[0m\u001b[0;34m.\u001b[0m\u001b[0moptions\u001b[0m\u001b[0;34m)\u001b[0m\u001b[0;34m\u001b[0m\u001b[0m\n\u001b[0m\u001b[1;32m   1123\u001b[0m         \u001b[0;32melse\u001b[0m\u001b[0;34m:\u001b[0m\u001b[0;34m\u001b[0m\u001b[0m\n\u001b[1;32m   1124\u001b[0m             \u001b[0;32mif\u001b[0m \u001b[0mengine\u001b[0m \u001b[0;34m==\u001b[0m \u001b[0;34m'python'\u001b[0m\u001b[0;34m:\u001b[0m\u001b[0;34m\u001b[0m\u001b[0m\n",
      "\u001b[0;32m~/anaconda3/envs/python3/lib/python3.6/site-packages/pandas/io/parsers.py\u001b[0m in \u001b[0;36m__init__\u001b[0;34m(self, src, **kwds)\u001b[0m\n\u001b[1;32m   1851\u001b[0m         \u001b[0mkwds\u001b[0m\u001b[0;34m[\u001b[0m\u001b[0;34m'usecols'\u001b[0m\u001b[0;34m]\u001b[0m \u001b[0;34m=\u001b[0m \u001b[0mself\u001b[0m\u001b[0;34m.\u001b[0m\u001b[0musecols\u001b[0m\u001b[0;34m\u001b[0m\u001b[0m\n\u001b[1;32m   1852\u001b[0m \u001b[0;34m\u001b[0m\u001b[0m\n\u001b[0;32m-> 1853\u001b[0;31m         \u001b[0mself\u001b[0m\u001b[0;34m.\u001b[0m\u001b[0m_reader\u001b[0m \u001b[0;34m=\u001b[0m \u001b[0mparsers\u001b[0m\u001b[0;34m.\u001b[0m\u001b[0mTextReader\u001b[0m\u001b[0;34m(\u001b[0m\u001b[0msrc\u001b[0m\u001b[0;34m,\u001b[0m \u001b[0;34m**\u001b[0m\u001b[0mkwds\u001b[0m\u001b[0;34m)\u001b[0m\u001b[0;34m\u001b[0m\u001b[0m\n\u001b[0m\u001b[1;32m   1854\u001b[0m         \u001b[0mself\u001b[0m\u001b[0;34m.\u001b[0m\u001b[0munnamed_cols\u001b[0m \u001b[0;34m=\u001b[0m \u001b[0mself\u001b[0m\u001b[0;34m.\u001b[0m\u001b[0m_reader\u001b[0m\u001b[0;34m.\u001b[0m\u001b[0munnamed_cols\u001b[0m\u001b[0;34m\u001b[0m\u001b[0m\n\u001b[1;32m   1855\u001b[0m \u001b[0;34m\u001b[0m\u001b[0m\n",
      "\u001b[0;32mpandas/_libs/parsers.pyx\u001b[0m in \u001b[0;36mpandas._libs.parsers.TextReader.__cinit__\u001b[0;34m()\u001b[0m\n",
      "\u001b[0;32mpandas/_libs/parsers.pyx\u001b[0m in \u001b[0;36mpandas._libs.parsers.TextReader._setup_parser_source\u001b[0;34m()\u001b[0m\n",
      "\u001b[0;31mFileNotFoundError\u001b[0m: [Errno 2] File b'../data/xgboost/test.csv.out' does not exist: b'../data/xgboost/test.csv.out'"
     ]
    }
   ],
   "source": [
    "predictions = pd.read_csv(os.path.join(data_dir, 'test.csv.out'), header=None)\n",
    "predictions = [round(num) for num in predictions.squeeze().values]"
   ]
  },
  {
   "cell_type": "code",
   "execution_count": null,
   "metadata": {},
   "outputs": [],
   "source": [
    "from sklearn.metrics import accuracy_score\n",
    "accuracy_score(test_y, predictions)"
   ]
  },
  {
   "cell_type": "code",
   "execution_count": null,
   "metadata": {},
   "outputs": [],
   "source": [
    "from sklearn.metrics import roc_curve, auc\n",
    "from sklearn.metrics import roc_auc_score\n",
    "import matplotlib.pyplot as plt\n",
    "\n",
    "auc = roc_auc_score(test_y, predictions)\n",
    "print('auc: ', auc)\n",
    "print('')\n",
    "\n",
    "# Compute ROC curve and ROC area for each class\n",
    "fpr, tpr, _ = roc_curve(test_y, predictions)\n",
    "print('fpr: ', fpr)\n",
    "print('tpr: ', tpr)\n",
    "print('')\n",
    "\n",
    "plt.figure()\n",
    "lw = 2\n",
    "plt.plot(fpr, tpr, color='darkorange',\n",
    "         lw=lw, label='ROC curve (area = %0.3f)' % auc)\n",
    "plt.plot([0, 1], [0, 1], color='navy', lw=lw, linestyle='--')\n",
    "plt.xlim([0.0, 1.0])\n",
    "plt.ylim([0.0, 1.05])\n",
    "plt.xlabel('False Positive Rate')\n",
    "plt.ylabel('True Positive Rate')\n",
    "plt.title('Receiver operating characteristic example')\n",
    "plt.legend(loc=\"lower right\")\n",
    "plt.show()"
   ]
  },
  {
   "cell_type": "markdown",
   "metadata": {},
   "source": [
    "## Optional: Clean up\n",
    "\n",
    "The default notebook instance on SageMaker doesn't have a lot of excess disk space available. As you continue to complete and execute notebooks you will eventually fill up this disk space, leading to errors which can be difficult to diagnose. Once you are completely finished using a notebook it is a good idea to remove the files that you created along the way. Of course, you can do this from the terminal or from the notebook hub if you would like. The cell below contains some commands to clean up the created files from within the notebook."
   ]
  },
  {
   "cell_type": "code",
   "execution_count": null,
   "metadata": {},
   "outputs": [],
   "source": [
    "# First we will remove all of the files contained in the data_dir directory\n",
    "!rm $data_dir/*\n",
    "\n",
    "# And then we delete the directory itself\n",
    "!rmdir $data_dir\n",
    "\n",
    "# Similarly we will remove the files in the cache_dir directory and the directory itself\n",
    "!rm $cache_dir/*\n",
    "!rmdir $cache_dir"
   ]
  },
  {
   "cell_type": "code",
   "execution_count": null,
   "metadata": {},
   "outputs": [],
   "source": []
  }
 ],
 "metadata": {
  "kernelspec": {
   "display_name": "conda_python3",
   "language": "python",
   "name": "conda_python3"
  },
  "language_info": {
   "codemirror_mode": {
    "name": "ipython",
    "version": 3
   },
   "file_extension": ".py",
   "mimetype": "text/x-python",
   "name": "python",
   "nbconvert_exporter": "python",
   "pygments_lexer": "ipython3",
   "version": "3.6.5"
  }
 },
 "nbformat": 4,
 "nbformat_minor": 2
}
